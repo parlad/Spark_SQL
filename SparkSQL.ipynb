{
  "nbformat": 4,
  "nbformat_minor": 0,
  "metadata": {
    "accelerator": "GPU",
    "colab": {
      "name": "SparkSQL.ipynb",
      "provenance": [],
      "collapsed_sections": []
    },
    "kernelspec": {
      "display_name": "Python 3",
      "language": "python",
      "name": "python3"
    },
    "language_info": {
      "codemirror_mode": {
        "name": "ipython",
        "version": 3
      },
      "file_extension": ".py",
      "mimetype": "text/x-python",
      "name": "python",
      "nbconvert_exporter": "python",
      "pygments_lexer": "ipython3",
      "version": "3.6.5"
    }
  },
  "cells": [
    {
      "cell_type": "markdown",
      "metadata": {
        "id": "8qf-TmnsBgXd"
      },
      "source": [
        "# Download Chicago's Reported Crime Data"
      ]
    },
    {
      "cell_type": "markdown",
      "metadata": {
        "id": "Dd6t0uFzuR4X"
      },
      "source": [
        "## Download and install Spark"
      ]
    },
    {
      "cell_type": "code",
      "metadata": {
        "id": "zToS5PqxBXpK",
        "colab": {
          "base_uri": "https://localhost:8080/"
        },
        "outputId": "3dcf5bac-2815-4712-9565-62a60b110305"
      },
      "source": [
        "!ls"
      ],
      "execution_count": 2,
      "outputs": [
        {
          "output_type": "stream",
          "text": [
            "sample_data\n"
          ],
          "name": "stdout"
        }
      ]
    },
    {
      "cell_type": "code",
      "metadata": {
        "id": "tt7ZS1_wGgjn",
        "colab": {
          "base_uri": "https://localhost:8080/"
        },
        "outputId": "627d594e-3ef8-4898-e02f-c25da47a34c8"
      },
      "source": [
        "!apt-get update\n",
        "!apt-get install openjdk-8-jdk-headless -qq > /dev/null\n",
        "!wget -q http://archive.apache.org/dist/spark/spark-2.3.1/spark-2.3.1-bin-hadoop2.7.tgz\n",
        "!tar xf spark-2.3.1-bin-hadoop2.7.tgz\n",
        "!pip install -q findspark"
      ],
      "execution_count": 3,
      "outputs": [
        {
          "output_type": "stream",
          "text": [
            "\r0% [Working]\r            \rGet:1 http://security.ubuntu.com/ubuntu bionic-security InRelease [88.7 kB]\n",
            "\r0% [Connecting to archive.ubuntu.com (91.189.88.142)] [1 InRelease 14.2 kB/88.7\r0% [Connecting to archive.ubuntu.com (91.189.88.142)] [Waiting for headers] [Co\r                                                                               \rGet:2 https://cloud.r-project.org/bin/linux/ubuntu bionic-cran40/ InRelease [3,626 B]\n",
            "\r0% [Connecting to archive.ubuntu.com (91.189.88.142)] [Connecting to ppa.launch\r0% [1 InRelease gpgv 88.7 kB] [Connecting to archive.ubuntu.com (91.189.88.142)\r                                                                               \rIgn:3 https://developer.download.nvidia.com/compute/cuda/repos/ubuntu1804/x86_64  InRelease\n",
            "\r0% [1 InRelease gpgv 88.7 kB] [Waiting for headers] [Waiting for headers] [Wait\r                                                                               \rGet:4 http://ppa.launchpad.net/c2d4u.team/c2d4u4.0+/ubuntu bionic InRelease [15.9 kB]\n",
            "\r0% [1 InRelease gpgv 88.7 kB] [Waiting for headers] [4 InRelease 2,572 B/15.9 k\r                                                                               \rHit:5 http://archive.ubuntu.com/ubuntu bionic InRelease\n",
            "Ign:6 https://developer.download.nvidia.com/compute/machine-learning/repos/ubuntu1804/x86_64  InRelease\n",
            "Get:7 https://developer.download.nvidia.com/compute/cuda/repos/ubuntu1804/x86_64  Release [697 B]\n",
            "Hit:8 https://developer.download.nvidia.com/compute/machine-learning/repos/ubuntu1804/x86_64  Release\n",
            "Get:9 https://developer.download.nvidia.com/compute/cuda/repos/ubuntu1804/x86_64  Release.gpg [836 B]\n",
            "Get:10 http://archive.ubuntu.com/ubuntu bionic-updates InRelease [88.7 kB]\n",
            "Get:11 http://security.ubuntu.com/ubuntu bionic-security/main amd64 Packages [2,119 kB]\n",
            "Hit:12 http://ppa.launchpad.net/cran/libgit2/ubuntu bionic InRelease\n",
            "Get:13 http://security.ubuntu.com/ubuntu bionic-security/universe amd64 Packages [1,410 kB]\n",
            "Get:14 http://security.ubuntu.com/ubuntu bionic-security/restricted amd64 Packages [399 kB]\n",
            "Get:15 http://security.ubuntu.com/ubuntu bionic-security/multiverse amd64 Packages [24.7 kB]\n",
            "Get:16 http://archive.ubuntu.com/ubuntu bionic-backports InRelease [74.6 kB]\n",
            "Get:17 http://ppa.launchpad.net/deadsnakes/ppa/ubuntu bionic InRelease [15.9 kB]\n",
            "Get:18 https://cloud.r-project.org/bin/linux/ubuntu bionic-cran40/ Packages [53.9 kB]\n",
            "Get:19 http://ppa.launchpad.net/graphics-drivers/ppa/ubuntu bionic InRelease [15.9 kB]\n",
            "Get:21 http://ppa.launchpad.net/c2d4u.team/c2d4u4.0+/ubuntu bionic/main Sources [1,759 kB]\n",
            "Ign:22 https://developer.download.nvidia.com/compute/cuda/repos/ubuntu1804/x86_64  Packages\n",
            "Get:22 https://developer.download.nvidia.com/compute/cuda/repos/ubuntu1804/x86_64  Packages [770 kB]\n",
            "Get:23 http://archive.ubuntu.com/ubuntu bionic-updates/main amd64 Packages [2,550 kB]\n",
            "Get:24 http://ppa.launchpad.net/c2d4u.team/c2d4u4.0+/ubuntu bionic/main amd64 Packages [900 kB]\n",
            "Get:25 http://archive.ubuntu.com/ubuntu bionic-updates/restricted amd64 Packages [429 kB]\n",
            "Get:26 http://archive.ubuntu.com/ubuntu bionic-updates/universe amd64 Packages [2,181 kB]\n",
            "Get:27 http://archive.ubuntu.com/ubuntu bionic-updates/multiverse amd64 Packages [31.6 kB]\n",
            "Get:28 http://ppa.launchpad.net/deadsnakes/ppa/ubuntu bionic/main amd64 Packages [40.3 kB]\n",
            "Get:29 http://ppa.launchpad.net/graphics-drivers/ppa/ubuntu bionic/main amd64 Packages [53.2 kB]\n",
            "Fetched 13.0 MB in 3s (4,232 kB/s)\n",
            "Reading package lists... Done\n"
          ],
          "name": "stdout"
        }
      ]
    },
    {
      "cell_type": "markdown",
      "metadata": {
        "id": "FEuEkV0BlzAD"
      },
      "source": [
        "## Setup environment"
      ]
    },
    {
      "cell_type": "code",
      "metadata": {
        "id": "sdOOq4twHN1K",
        "colab": {
          "base_uri": "https://localhost:8080/",
          "height": 216
        },
        "outputId": "c8f928bd-4bb0-4b23-e447-b1d9360050b2"
      },
      "source": [
        "import os\n",
        "os.environ[\"JAVA_HOME\"] = \"/usr/lib/jvm/java-8-openjdk-amd64\"\n",
        "os.environ[\"SPARK_HOME\"] = \"/content/spark-2.3.1-bin-hadoop2.7\"\n",
        "\n",
        "import findspark\n",
        "findspark.init()\n",
        "from pyspark import SparkContext\n",
        "sc = SparkContext.getOrCreate()\n",
        "\n",
        "import pyspark\n",
        "from pyspark.sql import SparkSession\n",
        "spark = SparkSession.builder.getOrCreate() \n",
        "spark"
      ],
      "execution_count": 4,
      "outputs": [
        {
          "output_type": "execute_result",
          "data": {
            "text/html": [
              "\n",
              "            <div>\n",
              "                <p><b>SparkSession - in-memory</b></p>\n",
              "                \n",
              "        <div>\n",
              "            <p><b>SparkContext</b></p>\n",
              "\n",
              "            <p><a href=\"http://2f53734885e3:4040\">Spark UI</a></p>\n",
              "\n",
              "            <dl>\n",
              "              <dt>Version</dt>\n",
              "                <dd><code>v2.3.1</code></dd>\n",
              "              <dt>Master</dt>\n",
              "                <dd><code>local[*]</code></dd>\n",
              "              <dt>AppName</dt>\n",
              "                <dd><code>pyspark-shell</code></dd>\n",
              "            </dl>\n",
              "        </div>\n",
              "        \n",
              "            </div>\n",
              "        "
            ],
            "text/plain": [
              "<pyspark.sql.session.SparkSession at 0x7f80a801af10>"
            ]
          },
          "metadata": {
            "tags": []
          },
          "execution_count": 4
        }
      ]
    },
    {
      "cell_type": "markdown",
      "metadata": {
        "id": "0ysUlfFrN5OD"
      },
      "source": [
        "## Downloading and preprocessing Chicago's Reported Crime Data"
      ]
    },
    {
      "cell_type": "code",
      "metadata": {
        "id": "FDtw5Hy3N-pV"
      },
      "source": [
        ""
      ],
      "execution_count": 4,
      "outputs": []
    },
    {
      "cell_type": "code",
      "metadata": {
        "id": "v4P5mMONYyVd"
      },
      "source": [
        ""
      ],
      "execution_count": 4,
      "outputs": []
    },
    {
      "cell_type": "code",
      "metadata": {
        "id": "MzpuCsvDPWM-"
      },
      "source": [
        "# !wget https://data.cityofchicago.org/api/views/ijzp-q8t2/rows.csv?accessType=DOWNLOAD"
      ],
      "execution_count": 5,
      "outputs": []
    },
    {
      "cell_type": "code",
      "metadata": {
        "id": "TU5D5sFffo58",
        "colab": {
          "base_uri": "https://localhost:8080/"
        },
        "outputId": "120f1b4e-5406-4895-a1c5-1e6c71cebfe0"
      },
      "source": [
        "from google.colab import drive\n",
        "drive.mount('/content/drive/')"
      ],
      "execution_count": 6,
      "outputs": [
        {
          "output_type": "stream",
          "text": [
            "Mounted at /content/drive/\n"
          ],
          "name": "stdout"
        }
      ]
    },
    {
      "cell_type": "code",
      "metadata": {
        "id": "QuVZKYEe1ezx",
        "colab": {
          "base_uri": "https://localhost:8080/"
        },
        "outputId": "1dad0493-27a3-4804-95fa-783ccdd449c7"
      },
      "source": [
        "!ls"
      ],
      "execution_count": 7,
      "outputs": [
        {
          "output_type": "stream",
          "text": [
            "drive  sample_data  spark-2.3.1-bin-hadoop2.7  spark-2.3.1-bin-hadoop2.7.tgz\n"
          ],
          "name": "stdout"
        }
      ]
    },
    {
      "cell_type": "code",
      "metadata": {
        "id": "zsfySPaj1ikJ"
      },
      "source": [
        "# !mv rows.csv?accessType=DOWNLOAD reported-crimes.csv"
      ],
      "execution_count": 8,
      "outputs": []
    },
    {
      "cell_type": "code",
      "metadata": {
        "id": "9-1cK0nPNS95",
        "colab": {
          "base_uri": "https://localhost:8080/"
        },
        "outputId": "d96aa470-590c-4e49-a7c1-14f8f366985c"
      },
      "source": [
        "from pyspark.sql.functions import to_timestamp,col,lit\n",
        "main_rc = spark.read.csv('/content/drive/MyDrive/Data/reported-crimes.csv',header=True).withColumn('Date',to_timestamp(col('Date'),'MM/dd/yyyy hh:mm:ss a')).filter(col('Date') <= lit('2018-11-11'))\n",
        "main_rc.show(5)"
      ],
      "execution_count": 9,
      "outputs": [
        {
          "output_type": "stream",
          "text": [
            "+--------+-----------+-------------------+--------------------+----+------------+--------------------+--------------------+------+--------+----+--------+----+--------------+--------+------------+------------+----+--------------------+------------+-------------+--------------------+\n",
            "|      ID|Case Number|               Date|               Block|IUCR|Primary Type|         Description|Location Description|Arrest|Domestic|Beat|District|Ward|Community Area|FBI Code|X Coordinate|Y Coordinate|Year|          Updated On|    Latitude|    Longitude|            Location|\n",
            "+--------+-----------+-------------------+--------------------+----+------------+--------------------+--------------------+------+--------+----+--------+----+--------------+--------+------------+------------+----+--------------------+------------+-------------+--------------------+\n",
            "|10224738|   HY411648|2015-09-05 13:30:00|     043XX S WOOD ST|0486|     BATTERY|DOMESTIC BATTERY ...|           RESIDENCE| false|    true|0924|     009|  12|            61|     08B|     1165074|     1875917|2015|02/10/2018 03:50:...|41.815117282|-87.669999562|(41.815117282, -8...|\n",
            "|10224739|   HY411615|2015-09-04 11:30:00| 008XX N CENTRAL AVE|0870|       THEFT|      POCKET-PICKING|             CTA BUS| false|   false|1511|     015|  29|            25|      06|     1138875|     1904869|2015|02/10/2018 03:50:...|41.895080471|-87.765400451|(41.895080471, -8...|\n",
            "|11646166|   JC213529|2018-09-01 00:01:00|082XX S INGLESIDE...|0810|       THEFT|           OVER $500|           RESIDENCE| false|    true|0631|     006|   8|            44|      06|        null|        null|2018|04/06/2019 04:04:...|        null|         null|                null|\n",
            "|10224740|   HY411595|2015-09-05 12:45:00|   035XX W BARRY AVE|2023|   NARCOTICS|POSS: HEROIN(BRN/...|            SIDEWALK|  true|   false|1412|     014|  35|            21|      18|     1152037|     1920384|2015|02/10/2018 03:50:...|41.937405765|-87.716649687|(41.937405765, -8...|\n",
            "|10224741|   HY411610|2015-09-05 13:00:00| 0000X N LARAMIE AVE|0560|     ASSAULT|              SIMPLE|           APARTMENT| false|    true|1522|     015|  28|            25|     08A|     1141706|     1900086|2015|02/10/2018 03:50:...|41.881903443|-87.755121152|(41.881903443, -8...|\n",
            "+--------+-----------+-------------------+--------------------+----+------------+--------------------+--------------------+------+--------+----+--------+----+--------------+--------+------------+------------+----+--------------------+------------+-------------+--------------------+\n",
            "only showing top 5 rows\n",
            "\n"
          ],
          "name": "stdout"
        }
      ]
    },
    {
      "cell_type": "code",
      "metadata": {
        "colab": {
          "base_uri": "https://localhost:8080/"
        },
        "id": "SsIimU9T9E1D",
        "outputId": "e60611b0-8f72-44e9-d39d-ca603a3b5123"
      },
      "source": [
        "main_rc.cache()\n",
        "main_rc.count()"
      ],
      "execution_count": 10,
      "outputs": [
        {
          "output_type": "execute_result",
          "data": {
            "text/plain": [
              "6754254"
            ]
          },
          "metadata": {
            "tags": []
          },
          "execution_count": 10
        }
      ]
    },
    {
      "cell_type": "code",
      "metadata": {
        "id": "FtDmwilgogPH"
      },
      "source": [
        "import pyspark\n",
        "from pyspark.sql import SparkSession\n",
        "spark = SparkSession.builder.getOrCreate()"
      ],
      "execution_count": 11,
      "outputs": []
    },
    {
      "cell_type": "markdown",
      "metadata": {
        "id": "KfXjGL4T6fxl"
      },
      "source": [
        "# Schemas"
      ]
    },
    {
      "cell_type": "code",
      "metadata": {
        "id": "EfLlcUyx46gn"
      },
      "source": [
        "# it's recomended to rename the schema or explecitely define the schema in Spark is recomended"
      ],
      "execution_count": 12,
      "outputs": []
    },
    {
      "cell_type": "code",
      "metadata": {
        "id": "rl6UTrjn7J5e",
        "colab": {
          "base_uri": "https://localhost:8080/"
        },
        "outputId": "ed25cb28-a14d-441b-90f7-1f3f1060a633"
      },
      "source": [
        "main_rc.columns"
      ],
      "execution_count": 13,
      "outputs": [
        {
          "output_type": "execute_result",
          "data": {
            "text/plain": [
              "['ID',\n",
              " 'Case Number',\n",
              " 'Date',\n",
              " 'Block',\n",
              " 'IUCR',\n",
              " 'Primary Type',\n",
              " 'Description',\n",
              " 'Location Description',\n",
              " 'Arrest',\n",
              " 'Domestic',\n",
              " 'Beat',\n",
              " 'District',\n",
              " 'Ward',\n",
              " 'Community Area',\n",
              " 'FBI Code',\n",
              " 'X Coordinate',\n",
              " 'Y Coordinate',\n",
              " 'Year',\n",
              " 'Updated On',\n",
              " 'Latitude',\n",
              " 'Longitude',\n",
              " 'Location']"
            ]
          },
          "metadata": {
            "tags": []
          },
          "execution_count": 13
        }
      ]
    },
    {
      "cell_type": "code",
      "metadata": {
        "id": "Fq-KtreN6unY"
      },
      "source": [
        "from pyspark.sql.types import StructField, StringType, TimestampType, BooleanType, DoubleType, IntegerType, StructType"
      ],
      "execution_count": 14,
      "outputs": []
    },
    {
      "cell_type": "code",
      "metadata": {
        "id": "bHOOSzf97A1R",
        "colab": {
          "base_uri": "https://localhost:8080/"
        },
        "outputId": "209afc72-6c20-4e79-e31e-2c48eac71aa1"
      },
      "source": [
        "StructType([\n",
        "            StructField('ID',IntegerType(),True),\n",
        "            StructField('Case Number', StringType(), True),\n",
        "            StructField('Date', TimestampType(), True),\n",
        "            StructField('Block', StringType(), True),\n",
        "            StructField('IUCR', IntegerType(), True),\n",
        "            StructField('Primary Type', StringType(), True),\n",
        "            StructField('Description', StringType(), True),\n",
        "            StructField('Location Description', StringType(), True),\n",
        "            StructField('Arrest', StringType(), True),\n",
        "            StructField('Domestic', BooleanType(), True),\n",
        "            StructField('Beat', IntegerType(), True),\n",
        "            StructField('District', IntegerType(), True),\n",
        "            StructField('Ward', IntegerType(), True),\n",
        "            StructField('Community Area', IntegerType(), True),\n",
        "            StructField('FBI Code', IntegerType(), True), \n",
        "            StructField('X Coordinate', DoubleType(), True),\n",
        "            StructField('Y Coordinate', DoubleType(), True),\n",
        "            StructField('Year', IntegerType(), True),\n",
        "            StructField('Updated On', TimestampType(), True),\n",
        "            StructField('Latitude', DoubleType(), True),\n",
        "            StructField('Longitude', DoubleType(), True),\n",
        "            StructField('Location', StringType(), True)\n",
        "])"
      ],
      "execution_count": 15,
      "outputs": [
        {
          "output_type": "execute_result",
          "data": {
            "text/plain": [
              "StructType(List(StructField(ID,IntegerType,true),StructField(Case Number,StringType,true),StructField(Date,TimestampType,true),StructField(Block,StringType,true),StructField(IUCR,IntegerType,true),StructField(Primary Type,StringType,true),StructField(Description,StringType,true),StructField(Location Description,StringType,true),StructField(Arrest,StringType,true),StructField(Domestic,BooleanType,true),StructField(Beat,IntegerType,true),StructField(District,IntegerType,true),StructField(Ward,IntegerType,true),StructField(Community Area,IntegerType,true),StructField(FBI Code,IntegerType,true),StructField(X Coordinate,DoubleType,true),StructField(Y Coordinate,DoubleType,true),StructField(Year,IntegerType,true),StructField(Updated On,TimestampType,true),StructField(Latitude,DoubleType,true),StructField(Longitude,DoubleType,true),StructField(Location,StringType,true)))"
            ]
          },
          "metadata": {
            "tags": []
          },
          "execution_count": 15
        }
      ]
    },
    {
      "cell_type": "code",
      "metadata": {
        "id": "Om119wwC8c9j"
      },
      "source": [
        "labels = [\n",
        "          \n",
        "          ('ID', IntegerType()),\n",
        "          ('Case Number',StringType()),\n",
        "\n",
        "          ('Date', TimestampType()),\n",
        "          ('Block', StringType()),\n",
        "          ('IUCR', IntegerType()),\n",
        "          ('Primary Type',StringType()),\n",
        "\n",
        "          ('Description', StringType()),\n",
        "          ('Location Description', StringType()),\n",
        "          ('Arrest', StringType()),\n",
        "\n",
        "          ('Domestic', BooleanType()),\n",
        "          ('Beat', IntegerType()),\n",
        "\n",
        "          ('District', IntegerType()),\n",
        "          ('Ward', IntegerType()),\n",
        "\n",
        "          ('Community Area', IntegerType()),\n",
        "          ('FBI Code', IntegerType()),\n",
        "          ('X Coordinate', DoubleType()),\n",
        "          ('Y Coordinate', DoubleType()),\n",
        "          ('Year', IntegerType()),\n",
        "          ('Updated On', TimestampType()),\n",
        "          ('Latitude', DoubleType()),\n",
        "          ('Longitude', DoubleType()),\n",
        "          ('Location', StringType())\n",
        "]"
      ],
      "execution_count": 16,
      "outputs": []
    },
    {
      "cell_type": "code",
      "metadata": {
        "id": "q2eNkJtEUMde",
        "colab": {
          "base_uri": "https://localhost:8080/"
        },
        "outputId": "31d9c551-b93b-4605-a6bc-3eda4350632e"
      },
      "source": [
        "schema = StructType([StructField ( x[0], x[1], True) for x in labels])\n",
        "schema"
      ],
      "execution_count": 17,
      "outputs": [
        {
          "output_type": "execute_result",
          "data": {
            "text/plain": [
              "StructType(List(StructField(ID,IntegerType,true),StructField(Case Number,StringType,true),StructField(Date,TimestampType,true),StructField(Block,StringType,true),StructField(IUCR,IntegerType,true),StructField(Primary Type,StringType,true),StructField(Description,StringType,true),StructField(Location Description,StringType,true),StructField(Arrest,StringType,true),StructField(Domestic,BooleanType,true),StructField(Beat,IntegerType,true),StructField(District,IntegerType,true),StructField(Ward,IntegerType,true),StructField(Community Area,IntegerType,true),StructField(FBI Code,IntegerType,true),StructField(X Coordinate,DoubleType,true),StructField(Y Coordinate,DoubleType,true),StructField(Year,IntegerType,true),StructField(Updated On,TimestampType,true),StructField(Latitude,DoubleType,true),StructField(Longitude,DoubleType,true),StructField(Location,StringType,true)))"
            ]
          },
          "metadata": {
            "tags": []
          },
          "execution_count": 17
        }
      ]
    },
    {
      "cell_type": "code",
      "metadata": {
        "id": "EHkpr3wihn2t",
        "colab": {
          "base_uri": "https://localhost:8080/"
        },
        "outputId": "6b7b499a-5c12-4af3-8f1c-963ba1f53ab9"
      },
      "source": [
        "rc = spark.read.csv('/content/drive/MyDrive/Data/reported-crimes.csv', schema=schema)\n",
        "rc.printSchema()"
      ],
      "execution_count": 18,
      "outputs": [
        {
          "output_type": "stream",
          "text": [
            "root\n",
            " |-- ID: integer (nullable = true)\n",
            " |-- Case Number: string (nullable = true)\n",
            " |-- Date: timestamp (nullable = true)\n",
            " |-- Block: string (nullable = true)\n",
            " |-- IUCR: integer (nullable = true)\n",
            " |-- Primary Type: string (nullable = true)\n",
            " |-- Description: string (nullable = true)\n",
            " |-- Location Description: string (nullable = true)\n",
            " |-- Arrest: string (nullable = true)\n",
            " |-- Domestic: boolean (nullable = true)\n",
            " |-- Beat: integer (nullable = true)\n",
            " |-- District: integer (nullable = true)\n",
            " |-- Ward: integer (nullable = true)\n",
            " |-- Community Area: integer (nullable = true)\n",
            " |-- FBI Code: integer (nullable = true)\n",
            " |-- X Coordinate: double (nullable = true)\n",
            " |-- Y Coordinate: double (nullable = true)\n",
            " |-- Year: integer (nullable = true)\n",
            " |-- Updated On: timestamp (nullable = true)\n",
            " |-- Latitude: double (nullable = true)\n",
            " |-- Longitude: double (nullable = true)\n",
            " |-- Location: string (nullable = true)\n",
            "\n"
          ],
          "name": "stdout"
        }
      ]
    },
    {
      "cell_type": "code",
      "metadata": {
        "id": "-2yjvVxvlkjh",
        "colab": {
          "base_uri": "https://localhost:8080/"
        },
        "outputId": "ac4feedc-f3bc-4857-ff45-864a22203291"
      },
      "source": [
        "rc.show(5)"
      ],
      "execution_count": 19,
      "outputs": [
        {
          "output_type": "stream",
          "text": [
            "+----+-----------+----+-----+----+------------+-----------+--------------------+------+--------+----+--------+----+--------------+--------+------------+------------+----+----------+--------+---------+--------+\n",
            "|  ID|Case Number|Date|Block|IUCR|Primary Type|Description|Location Description|Arrest|Domestic|Beat|District|Ward|Community Area|FBI Code|X Coordinate|Y Coordinate|Year|Updated On|Latitude|Longitude|Location|\n",
            "+----+-----------+----+-----+----+------------+-----------+--------------------+------+--------+----+--------+----+--------------+--------+------------+------------+----+----------+--------+---------+--------+\n",
            "|null|       null|null| null|null|        null|       null|                null|  null|    null|null|    null|null|          null|    null|        null|        null|null|      null|    null|     null|    null|\n",
            "|null|       null|null| null|null|        null|       null|                null|  null|    null|null|    null|null|          null|    null|        null|        null|null|      null|    null|     null|    null|\n",
            "|null|       null|null| null|null|        null|       null|                null|  null|    null|null|    null|null|          null|    null|        null|        null|null|      null|    null|     null|    null|\n",
            "|null|       null|null| null|null|        null|       null|                null|  null|    null|null|    null|null|          null|    null|        null|        null|null|      null|    null|     null|    null|\n",
            "|null|       null|null| null|null|        null|       null|                null|  null|    null|null|    null|null|          null|    null|        null|        null|null|      null|    null|     null|    null|\n",
            "+----+-----------+----+-----+----+------------+-----------+--------------------+------+--------+----+--------+----+--------------+--------+------------+------------+----+----------+--------+---------+--------+\n",
            "only showing top 5 rows\n",
            "\n"
          ],
          "name": "stdout"
        }
      ]
    },
    {
      "cell_type": "markdown",
      "metadata": {
        "id": "5faNoFLboJwo"
      },
      "source": [
        "# Working with column"
      ]
    },
    {
      "cell_type": "code",
      "metadata": {
        "id": "YICRoxQgl-pj",
        "colab": {
          "base_uri": "https://localhost:8080/"
        },
        "outputId": "a2f335b5-20ce-48bd-8584-1983d383ed04"
      },
      "source": [
        "main_rc.select(main_rc.IUCR).show(5)"
      ],
      "execution_count": 20,
      "outputs": [
        {
          "output_type": "stream",
          "text": [
            "+----+\n",
            "|IUCR|\n",
            "+----+\n",
            "|0486|\n",
            "|0870|\n",
            "|0810|\n",
            "|2023|\n",
            "|0560|\n",
            "+----+\n",
            "only showing top 5 rows\n",
            "\n"
          ],
          "name": "stdout"
        }
      ]
    },
    {
      "cell_type": "code",
      "metadata": {
        "id": "A2cvMXuJoP3o",
        "colab": {
          "base_uri": "https://localhost:8080/"
        },
        "outputId": "d406994a-3a0e-4249-a709-87bab31b54a8"
      },
      "source": [
        "main_rc.select('Case Number', 'Date', 'Arrest').show(4)"
      ],
      "execution_count": 21,
      "outputs": [
        {
          "output_type": "stream",
          "text": [
            "+-----------+-------------------+------+\n",
            "|Case Number|               Date|Arrest|\n",
            "+-----------+-------------------+------+\n",
            "|   HY411648|2015-09-05 13:30:00| false|\n",
            "|   HY411615|2015-09-04 11:30:00| false|\n",
            "|   JC213529|2018-09-01 00:01:00| false|\n",
            "|   HY411595|2015-09-05 12:45:00|  true|\n",
            "+-----------+-------------------+------+\n",
            "only showing top 4 rows\n",
            "\n"
          ],
          "name": "stdout"
        }
      ]
    },
    {
      "cell_type": "markdown",
      "metadata": {
        "id": "OxY6HbFFwpbu"
      },
      "source": [
        "# Adding a column with name one, with entries all 1s"
      ]
    },
    {
      "cell_type": "code",
      "metadata": {
        "id": "zQp-NXlKwjFZ"
      },
      "source": [
        "from pyspark.sql.functions import lit"
      ],
      "execution_count": 22,
      "outputs": []
    },
    {
      "cell_type": "code",
      "metadata": {
        "id": "RRX-fp6Sw3yE",
        "colab": {
          "base_uri": "https://localhost:8080/"
        },
        "outputId": "f6715d70-095a-45d9-d56f-d471f0f4777e"
      },
      "source": [
        "main_rc.withColumn('one', lit(1)).show(5)"
      ],
      "execution_count": 23,
      "outputs": [
        {
          "output_type": "stream",
          "text": [
            "+--------+-----------+-------------------+--------------------+----+------------+--------------------+--------------------+------+--------+----+--------+----+--------------+--------+------------+------------+----+--------------------+------------+-------------+--------------------+---+\n",
            "|      ID|Case Number|               Date|               Block|IUCR|Primary Type|         Description|Location Description|Arrest|Domestic|Beat|District|Ward|Community Area|FBI Code|X Coordinate|Y Coordinate|Year|          Updated On|    Latitude|    Longitude|            Location|one|\n",
            "+--------+-----------+-------------------+--------------------+----+------------+--------------------+--------------------+------+--------+----+--------+----+--------------+--------+------------+------------+----+--------------------+------------+-------------+--------------------+---+\n",
            "|10224738|   HY411648|2015-09-05 13:30:00|     043XX S WOOD ST|0486|     BATTERY|DOMESTIC BATTERY ...|           RESIDENCE| false|    true|0924|     009|  12|            61|     08B|     1165074|     1875917|2015|02/10/2018 03:50:...|41.815117282|-87.669999562|(41.815117282, -8...|  1|\n",
            "|10224739|   HY411615|2015-09-04 11:30:00| 008XX N CENTRAL AVE|0870|       THEFT|      POCKET-PICKING|             CTA BUS| false|   false|1511|     015|  29|            25|      06|     1138875|     1904869|2015|02/10/2018 03:50:...|41.895080471|-87.765400451|(41.895080471, -8...|  1|\n",
            "|11646166|   JC213529|2018-09-01 00:01:00|082XX S INGLESIDE...|0810|       THEFT|           OVER $500|           RESIDENCE| false|    true|0631|     006|   8|            44|      06|        null|        null|2018|04/06/2019 04:04:...|        null|         null|                null|  1|\n",
            "|10224740|   HY411595|2015-09-05 12:45:00|   035XX W BARRY AVE|2023|   NARCOTICS|POSS: HEROIN(BRN/...|            SIDEWALK|  true|   false|1412|     014|  35|            21|      18|     1152037|     1920384|2015|02/10/2018 03:50:...|41.937405765|-87.716649687|(41.937405765, -8...|  1|\n",
            "|10224741|   HY411610|2015-09-05 13:00:00| 0000X N LARAMIE AVE|0560|     ASSAULT|              SIMPLE|           APARTMENT| false|    true|1522|     015|  28|            25|     08A|     1141706|     1900086|2015|02/10/2018 03:50:...|41.881903443|-87.755121152|(41.881903443, -8...|  1|\n",
            "+--------+-----------+-------------------+--------------------+----+------------+--------------------+--------------------+------+--------+----+--------+----+--------------+--------+------------+------------+----+--------------------+------------+-------------+--------------------+---+\n",
            "only showing top 5 rows\n",
            "\n"
          ],
          "name": "stdout"
        }
      ]
    },
    {
      "cell_type": "markdown",
      "metadata": {
        "id": "XMwWUzGdxWov"
      },
      "source": [
        "# Working with Rows"
      ]
    },
    {
      "cell_type": "code",
      "metadata": {
        "id": "8pvEbOEExa-V",
        "colab": {
          "base_uri": "https://localhost:8080/"
        },
        "outputId": "be91dc4c-1e18-4e89-b508-92877bd2bd45"
      },
      "source": [
        "one_day = spark.read.csv('/content/drive/MyDrive/Data/reported-crimes.csv',header=True).withColumn('Date',to_timestamp(col('Date'),'MM/dd/yyyy hh:mm:ss a')).filter(col('Date') == lit('2018-11-11'))\n",
        "one_day.count()"
      ],
      "execution_count": 24,
      "outputs": [
        {
          "output_type": "execute_result",
          "data": {
            "text/plain": [
              "11"
            ]
          },
          "metadata": {
            "tags": []
          },
          "execution_count": 24
        }
      ]
    },
    {
      "cell_type": "code",
      "metadata": {
        "id": "2QyZ1gajyKix",
        "colab": {
          "base_uri": "https://localhost:8080/"
        },
        "outputId": "1782b443-779e-42df-cc7f-02275cda5e07"
      },
      "source": [
        "main_rc.union(one_day).show()"
      ],
      "execution_count": 25,
      "outputs": [
        {
          "output_type": "stream",
          "text": [
            "+--------+-----------+-------------------+--------------------+----+------------------+--------------------+--------------------+------+--------+----+--------+----+--------------+--------+------------+------------+----+--------------------+------------+-------------+--------------------+\n",
            "|      ID|Case Number|               Date|               Block|IUCR|      Primary Type|         Description|Location Description|Arrest|Domestic|Beat|District|Ward|Community Area|FBI Code|X Coordinate|Y Coordinate|Year|          Updated On|    Latitude|    Longitude|            Location|\n",
            "+--------+-----------+-------------------+--------------------+----+------------------+--------------------+--------------------+------+--------+----+--------+----+--------------+--------+------------+------------+----+--------------------+------------+-------------+--------------------+\n",
            "|10224738|   HY411648|2015-09-05 13:30:00|     043XX S WOOD ST|0486|           BATTERY|DOMESTIC BATTERY ...|           RESIDENCE| false|    true|0924|     009|  12|            61|     08B|     1165074|     1875917|2015|02/10/2018 03:50:...|41.815117282|-87.669999562|(41.815117282, -8...|\n",
            "|10224739|   HY411615|2015-09-04 11:30:00| 008XX N CENTRAL AVE|0870|             THEFT|      POCKET-PICKING|             CTA BUS| false|   false|1511|     015|  29|            25|      06|     1138875|     1904869|2015|02/10/2018 03:50:...|41.895080471|-87.765400451|(41.895080471, -8...|\n",
            "|11646166|   JC213529|2018-09-01 00:01:00|082XX S INGLESIDE...|0810|             THEFT|           OVER $500|           RESIDENCE| false|    true|0631|     006|   8|            44|      06|        null|        null|2018|04/06/2019 04:04:...|        null|         null|                null|\n",
            "|10224740|   HY411595|2015-09-05 12:45:00|   035XX W BARRY AVE|2023|         NARCOTICS|POSS: HEROIN(BRN/...|            SIDEWALK|  true|   false|1412|     014|  35|            21|      18|     1152037|     1920384|2015|02/10/2018 03:50:...|41.937405765|-87.716649687|(41.937405765, -8...|\n",
            "|10224741|   HY411610|2015-09-05 13:00:00| 0000X N LARAMIE AVE|0560|           ASSAULT|              SIMPLE|           APARTMENT| false|    true|1522|     015|  28|            25|     08A|     1141706|     1900086|2015|02/10/2018 03:50:...|41.881903443|-87.755121152|(41.881903443, -8...|\n",
            "|10224742|   HY411435|2015-09-05 10:55:00| 082XX S LOOMIS BLVD|0610|          BURGLARY|      FORCIBLE ENTRY|           RESIDENCE| false|   false|0614|     006|  21|            71|      05|     1168430|     1850165|2015|02/10/2018 03:50:...|41.744378879|-87.658430635|(41.744378879, -8...|\n",
            "|10224743|   HY411629|2015-09-04 18:00:00|021XX W CHURCHILL ST|0620|          BURGLARY|      UNLAWFUL ENTRY|    RESIDENCE-GARAGE| false|   false|1434|     014|  32|            24|      05|     1161628|     1912157|2015|02/10/2018 03:50:...|41.914635603|-87.681630909|(41.914635603, -8...|\n",
            "|10224744|   HY411605|2015-09-05 13:00:00|   025XX W CERMAK RD|0860|             THEFT|        RETAIL THEFT|  GROCERY FOOD STORE|  true|   false|1034|     010|  25|            31|      06|     1159734|     1889313|2015|09/17/2015 11:37:...|41.851988885|-87.689219118|(41.851988885, -8...|\n",
            "|10224745|   HY411654|2015-09-05 11:30:00|031XX W WASHINGTO...|0320|           ROBBERY|STRONGARM - NO WE...|              STREET| false|    true|1222|     012|  27|            27|      03|     1155536|     1900515|2015|02/10/2018 03:50:...| 41.88281374|-87.704325717|(41.88281374, -87...|\n",
            "|11645836|   JC212333|2016-05-01 00:25:00| 055XX S ROCKWELL ST|1153|DECEPTIVE PRACTICE|FINANCIAL IDENTIT...|                null| false|   false|0824|     008|  15|            63|      11|        null|        null|2016|04/06/2019 04:04:...|        null|         null|                null|\n",
            "|10224746|   HY411662|2015-09-05 14:00:00|  071XX S PULASKI RD|0820|             THEFT|      $500 AND UNDER|PARKING LOT/GARAG...| false|   false|0833|     008|  13|            65|      06|     1150938|     1857056|2015|02/10/2018 03:50:...|41.763647552|-87.722344693|(41.763647552, -8...|\n",
            "|10224749|   HY411626|2015-09-05 11:00:00|052XX N MILWAUKEE...|0460|           BATTERY|              SIMPLE|  SMALL RETAIL STORE| false|   false|1623|     016|  45|            11|     08B|     1137969|     1934340|2015|02/10/2018 03:50:...|41.975968415|-87.768014257|(41.975968415, -8...|\n",
            "|10224750|   HY411632|2015-09-05 03:00:00|    0000X W 103RD ST|2820|     OTHER OFFENSE|    TELEPHONE THREAT|           APARTMENT| false|    true|0512|     005|  34|            49|      26|     1177871|     1836676|2015|02/10/2018 03:50:...|41.707154919|-87.624244993|(41.707154919, -8...|\n",
            "|10224751|   HY411566|2015-09-05 12:50:00|     013XX E 47TH ST|0486|           BATTERY|DOMESTIC BATTERY ...|              STREET| false|    true|0222|     002|   4|            39|     08B|     1185907|     1874105|2015|02/10/2018 03:50:...|41.809678314|-87.593638934|(41.809678314, -8...|\n",
            "|10224752|   HY411601|2015-09-03 13:00:00| 020XX W SCHILLER ST|0810|             THEFT|           OVER $500|              STREET| false|   false|1424|     014|   1|            24|      06|     1162574|     1909428|2015|02/10/2018 03:50:...|41.907127255|-87.678232016|(41.907127255, -8...|\n",
            "|10224753|   HY411489|2015-09-05 11:45:00|  080XX S JUSTINE ST|0497|           BATTERY|AGGRAVATED DOMEST...|           APARTMENT| false|   false|0612|     006|  21|            71|     04B|     1167400|     1851512|2015|02/10/2018 03:50:...|41.748097343|-87.662166183|(41.748097343, -8...|\n",
            "|10224754|   HY411656|2015-09-05 13:30:00|007XX N LEAMINGTO...|1320|   CRIMINAL DAMAGE|          TO VEHICLE|              STREET| false|   false|1531|     015|  28|            25|      14|     1141889|     1904448|2015|02/10/2018 03:50:...|41.893869916|-87.754341096|(41.893869916, -8...|\n",
            "|10224756|   HY410094|2015-07-08 00:00:00|103XX S TORRENCE AVE|0620|          BURGLARY|      UNLAWFUL ENTRY|               OTHER| false|   false|0434|     004|  10|            51|      05|     1195508|     1836950|2015|02/10/2018 03:50:...|41.707490122|-87.559650325|(41.707490122, -8...|\n",
            "|10224757|   HY411388|2015-09-05 09:55:00|  088XX S PAULINA ST|0610|          BURGLARY|      FORCIBLE ENTRY|           RESIDENCE|  true|   false|2221|     022|  21|            71|      05|     1166554|     1846067|2015|02/10/2018 03:50:...|41.733173536|-87.665421067|(41.733173536, -8...|\n",
            "|10224758|   HY411568|2015-09-05 12:35:00|    059XX W GRACE ST|0486|           BATTERY|DOMESTIC BATTERY ...|              STREET| false|    true|1633|     016|  38|            15|     08B|     1136014|     1924656|2015|02/10/2018 03:50:...|41.949429769|-87.775435529|(41.949429769, -8...|\n",
            "+--------+-----------+-------------------+--------------------+----+------------------+--------------------+--------------------+------+--------+----+--------+----+--------------+--------+------------+------------+----+--------------------+------------+-------------+--------------------+\n",
            "only showing top 20 rows\n",
            "\n"
          ],
          "name": "stdout"
        }
      ]
    },
    {
      "cell_type": "code",
      "metadata": {
        "id": "U4egdUpzzV2x",
        "colab": {
          "base_uri": "https://localhost:8080/"
        },
        "outputId": "efca2c51-fd75-4de7-9914-f86aef61ad08"
      },
      "source": [
        "main_rc.union(one_day).orderBy('Date', ascending = False).show(15)"
      ],
      "execution_count": 26,
      "outputs": [
        {
          "output_type": "stream",
          "text": [
            "+--------+-----------+-------------------+--------------------+----+--------------------+--------------------+--------------------+------+--------+----+--------+----+--------------+--------+------------+------------+----+--------------------+------------+-------------+--------------------+\n",
            "|      ID|Case Number|               Date|               Block|IUCR|        Primary Type|         Description|Location Description|Arrest|Domestic|Beat|District|Ward|Community Area|FBI Code|X Coordinate|Y Coordinate|Year|          Updated On|    Latitude|    Longitude|            Location|\n",
            "+--------+-----------+-------------------+--------------------+----+--------------------+--------------------+--------------------+------+--------+----+--------+----+--------------+--------+------------+------------+----+--------------------+------------+-------------+--------------------+\n",
            "|11513303|   JB523990|2018-11-11 00:00:00|  007XX S CICERO AVE|0281|CRIMINAL SEXUAL A...|      NON-AGGRAVATED|              STREET| false|   false|1131|     011|  24|            25|      02|     1144511|     1896107|2018|03/19/2020 03:44:...|41.870932257|-87.744921277|(41.870932257, -8...|\n",
            "|11530397|   JB546163|2018-11-11 00:00:00|  047XX N BERNARD ST|0890|               THEFT|       FROM BUILDING|           APARTMENT| false|   false|1723|     017|  33|            14|      06|     1152530|     1931235|2018|12/12/2018 04:09:...|41.967171933|-87.714549886|(41.967171933, -8...|\n",
            "|11505581|   JB513620|2018-11-11 00:00:00|  049XX S KEELER AVE|0486|             BATTERY|DOMESTIC BATTERY ...|           RESIDENCE| false|    true|0815|     008|  14|            57|     08B|     1149195|     1871583|2018|11/18/2018 04:11:...|41.803545745|-87.728358627|(41.803545745, -8...|\n",
            "|11507744|   JB516509|2018-11-11 00:00:00|   033XX S DAMEN AVE|0820|               THEFT|      $500 AND UNDER|           RESIDENCE| false|   false|0912|     009|  12|            59|      06|     1163564|     1882504|2018|11/18/2018 04:11:...|41.833224596|-87.675353441|(41.833224596, -8...|\n",
            "|11505877|   JB514053|2018-11-11 00:00:00| 040XX S PRAIRIE AVE|0820|               THEFT|      $500 AND UNDER|               OTHER| false|   false|0213|     002|   3|            38|      06|     1178707|     1878242|2018|11/18/2018 04:11:...|41.821197606|-87.619921139|(41.821197606, -8...|\n",
            "|11504529|   JB512336|2018-11-11 00:00:00|     026XX W 21ST ST|1320|     CRIMINAL DAMAGE|          TO VEHICLE|              STREET| false|   false|1023|     010|  24|            30|      14|     1159124|     1889973|2018|11/18/2018 04:11:...|41.853812529| -87.69143988|(41.853812529, -8...|\n",
            "|11504835|   JB512723|2018-11-11 00:00:00|011XX W GARFIELD ...|1305|     CRIMINAL DAMAGE| CRIMINAL DEFACEMENT|           RESIDENCE| false|   false|0712|     007|  16|            68|      14|     1169461|     1868186|2018|11/18/2018 04:11:...|41.793808521|-87.654131491|(41.793808521, -8...|\n",
            "|11504126|   JB511829|2018-11-11 00:00:00|    012XX N NOBLE ST|1320|     CRIMINAL DAMAGE|          TO VEHICLE|              STREET| false|   false|1433|     014|   2|            24|      14|     1166828|     1908386|2018|11/18/2018 04:11:...|41.904177725|-87.662635226|(41.904177725, -8...|\n",
            "|11504097|   JB511773|2018-11-11 00:00:00|003XX S ST LOUIS AVE|1320|     CRIMINAL DAMAGE|          TO VEHICLE|              STREET| false|   false|1133|     011|  28|            27|      14|     1153064|     1898239|2018|11/18/2018 04:11:...|41.876617517|-87.713463403|(41.876617517, -8...|\n",
            "|11511859|   JB521800|2018-11-11 00:00:00|   002XX W CERMAK RD|1130|  DECEPTIVE PRACTICE|FRAUD OR CONFIDEN...|           RESIDENCE| false|   false|0914|     009|  25|            34|      11|     1174908|     1889739|2018|11/22/2018 04:00:...|41.852832024| -87.63351404|(41.852832024, -8...|\n",
            "|11595518|   JC152109|2018-11-11 00:00:00|043XX N GREENVIEW...|1153|  DECEPTIVE PRACTICE|FINANCIAL IDENTIT...|  SMALL RETAIL STORE| false|   false|1912|     019|  47|             6|      11|        null|        null|2018|02/15/2019 04:04:...|        null|         null|                null|\n",
            "|11504330|   JB512058|2018-11-10 23:55:00|021XX W GREENLEAF...|0820|               THEFT|      $500 AND UNDER|              STREET| false|   false|2411|     024|  50|             2|      06|     1160583|     1946926|2018|11/17/2018 04:14:...|42.010065214|-87.684502849|(42.010065214, -8...|\n",
            "|11503920|   JB511504|2018-11-10 23:53:00|081XX S HERMITAGE...|0910| MOTOR VEHICLE THEFT|          AUTOMOBILE|           APARTMENT| false|   false|0614|     006|  21|            71|      07|     1166095|     1850727|2018|11/17/2018 04:14:...|41.745971025|-87.666970419|(41.745971025, -8...|\n",
            "|11504110|   JB511795|2018-11-10 23:50:00|   013XX S TRIPP AVE|1320|     CRIMINAL DAMAGE|          TO VEHICLE|VEHICLE NON-COMME...| false|   false|1011|     010|  24|            29|      14|     1148267|     1893365|2018|11/17/2018 04:14:...|  41.8633364|-87.731202138|(41.8633364, -87....|\n",
            "|11503924|   JB511536|2018-11-10 23:45:00|  083XX S RHODES AVE|1310|     CRIMINAL DAMAGE|         TO PROPERTY|           RESIDENCE| false|    true|0632|     006|   6|            44|      14|     1181251|     1849759|2018|11/17/2018 04:14:...|41.742979225| -87.61146577|(41.742979225, -8...|\n",
            "+--------+-----------+-------------------+--------------------+----+--------------------+--------------------+--------------------+------+--------+----+--------+----+--------------+--------+------------+------------+----+--------------------+------------+-------------+--------------------+\n",
            "only showing top 15 rows\n",
            "\n"
          ],
          "name": "stdout"
        }
      ]
    },
    {
      "cell_type": "markdown",
      "metadata": {
        "id": "vyTdkZn13PA4"
      },
      "source": [
        "# what are the top 10 number of reported crime by prime type"
      ]
    },
    {
      "cell_type": "code",
      "metadata": {
        "id": "qe-Bkaph3b56",
        "colab": {
          "base_uri": "https://localhost:8080/"
        },
        "outputId": "ef9a20d6-ca6b-4ce0-9eec-4fd412cc7d0c"
      },
      "source": [
        "main_rc.groupBy('Primary Type').count().orderBy('count', ascending=False).show()"
      ],
      "execution_count": 27,
      "outputs": [
        {
          "output_type": "stream",
          "text": [
            "+--------------------+-------+\n",
            "|        Primary Type|  count|\n",
            "+--------------------+-------+\n",
            "|               THEFT|1418449|\n",
            "|             BATTERY|1232243|\n",
            "|     CRIMINAL DAMAGE| 771501|\n",
            "|           NARCOTICS| 711748|\n",
            "|       OTHER OFFENSE| 418868|\n",
            "|             ASSAULT| 418512|\n",
            "|            BURGLARY| 388036|\n",
            "| MOTOR VEHICLE THEFT| 314131|\n",
            "|  DECEPTIVE PRACTICE| 266336|\n",
            "|             ROBBERY| 255598|\n",
            "|   CRIMINAL TRESPASS| 193371|\n",
            "|   WEAPONS VIOLATION|  70662|\n",
            "|        PROSTITUTION|  68329|\n",
            "|PUBLIC PEACE VIOL...|  47785|\n",
            "|OFFENSE INVOLVING...|  46082|\n",
            "| CRIM SEXUAL ASSAULT|  26741|\n",
            "|         SEX OFFENSE|  25402|\n",
            "|INTERFERENCE WITH...|  15140|\n",
            "|            GAMBLING|  14422|\n",
            "|LIQUOR LAW VIOLATION|  14068|\n",
            "+--------------------+-------+\n",
            "only showing top 20 rows\n",
            "\n"
          ],
          "name": "stdout"
        }
      ]
    },
    {
      "cell_type": "code",
      "metadata": {
        "id": "meETbkr24svy",
        "colab": {
          "base_uri": "https://localhost:8080/"
        },
        "outputId": "4cc32b34-398d-46e8-cfae-73273af8a62f"
      },
      "source": [
        "main_rc.groupBy('Arrest').count()"
      ],
      "execution_count": 28,
      "outputs": [
        {
          "output_type": "execute_result",
          "data": {
            "text/plain": [
              "DataFrame[Arrest: string, count: bigint]"
            ]
          },
          "metadata": {
            "tags": []
          },
          "execution_count": 28
        }
      ]
    },
    {
      "cell_type": "code",
      "metadata": {
        "id": "T4oGwjLA7Evp",
        "colab": {
          "base_uri": "https://localhost:8080/"
        },
        "outputId": "30367263-fd15-4493-a18e-3fc9a3bab895"
      },
      "source": [
        "main_rc.groupBy('Location Description').count().orderBy('count', ascending=False).show(3)"
      ],
      "execution_count": 29,
      "outputs": [
        {
          "output_type": "stream",
          "text": [
            "+--------------------+-------+\n",
            "|Location Description|  count|\n",
            "+--------------------+-------+\n",
            "|              STREET|1770580|\n",
            "|           RESIDENCE|1145264|\n",
            "|           APARTMENT| 698502|\n",
            "+--------------------+-------+\n",
            "only showing top 3 rows\n",
            "\n"
          ],
          "name": "stdout"
        }
      ]
    },
    {
      "cell_type": "code",
      "metadata": {
        "id": "4VYc6i6x7TWK",
        "colab": {
          "base_uri": "https://localhost:8080/"
        },
        "outputId": "26f6eea1-09e7-4e6c-e912-711376e27b45"
      },
      "source": [
        "main_rc.filter(col('Arrest') == 'true').count() / main_rc.select('Arrest').count()"
      ],
      "execution_count": 30,
      "outputs": [
        {
          "output_type": "execute_result",
          "data": {
            "text/plain": [
              "0.2775440485359301"
            ]
          },
          "metadata": {
            "tags": []
          },
          "execution_count": 30
        }
      ]
    },
    {
      "cell_type": "code",
      "metadata": {
        "id": "_-2F3bKb86FK",
        "colab": {
          "base_uri": "https://localhost:8080/"
        },
        "outputId": "084d867f-3aa3-40dd-8597-85edb8189c02"
      },
      "source": [
        "from pyspark.sql import functions\n",
        "print(dir(functions))"
      ],
      "execution_count": 31,
      "outputs": [
        {
          "output_type": "stream",
          "text": [
            "['AutoBatchedSerializer', 'Column', 'DataFrame', 'DataType', 'PandasUDFType', 'PickleSerializer', 'PythonEvalType', 'SparkContext', 'StringType', 'UserDefinedFunction', '__all__', '__builtins__', '__cached__', '__doc__', '__file__', '__loader__', '__name__', '__package__', '__spec__', '_binary_mathfunctions', '_collect_list_doc', '_collect_set_doc', '_create_binary_mathfunction', '_create_function', '_create_udf', '_create_window_function', '_functions', '_functions_1_4', '_functions_1_6', '_functions_2_1', '_functions_deprecated', '_lit_doc', '_message', '_string_functions', '_test', '_to_java_column', '_to_seq', '_window_functions', '_wrap_deprecated_function', 'abs', 'acos', 'add_months', 'approxCountDistinct', 'approx_count_distinct', 'array', 'array_contains', 'asc', 'ascii', 'asin', 'atan', 'atan2', 'avg', 'base64', 'bin', 'bitwiseNOT', 'blacklist', 'broadcast', 'bround', 'cbrt', 'ceil', 'coalesce', 'col', 'collect_list', 'collect_set', 'column', 'concat', 'concat_ws', 'conv', 'corr', 'cos', 'cosh', 'count', 'countDistinct', 'covar_pop', 'covar_samp', 'crc32', 'create_map', 'cume_dist', 'current_date', 'current_timestamp', 'date_add', 'date_format', 'date_sub', 'date_trunc', 'datediff', 'dayofmonth', 'dayofweek', 'dayofyear', 'decode', 'degrees', 'dense_rank', 'desc', 'encode', 'exp', 'explode', 'explode_outer', 'expm1', 'expr', 'factorial', 'first', 'floor', 'format_number', 'format_string', 'from_json', 'from_unixtime', 'from_utc_timestamp', 'functools', 'get_json_object', 'greatest', 'grouping', 'grouping_id', 'hash', 'hex', 'hour', 'hypot', 'ignore_unicode_prefix', 'initcap', 'input_file_name', 'instr', 'isnan', 'isnull', 'json_tuple', 'kurtosis', 'lag', 'last', 'last_day', 'lead', 'least', 'length', 'levenshtein', 'lit', 'locate', 'log', 'log10', 'log1p', 'log2', 'lower', 'lpad', 'ltrim', 'map_keys', 'map_values', 'math', 'max', 'md5', 'mean', 'min', 'minute', 'monotonically_increasing_id', 'month', 'months_between', 'nanvl', 'next_day', 'ntile', 'pandas_udf', 'percent_rank', 'posexplode', 'posexplode_outer', 'pow', 'quarter', 'radians', 'rand', 'randn', 'rank', 'regexp_extract', 'regexp_replace', 'repeat', 'reverse', 'rint', 'round', 'row_number', 'rpad', 'rtrim', 'second', 'sha1', 'sha2', 'shiftLeft', 'shiftRight', 'shiftRightUnsigned', 'signum', 'sin', 'since', 'sinh', 'size', 'skewness', 'sort_array', 'soundex', 'spark_partition_id', 'split', 'sqrt', 'stddev', 'stddev_pop', 'stddev_samp', 'struct', 'substring', 'substring_index', 'sum', 'sumDistinct', 'sys', 'tan', 'tanh', 'toDegrees', 'toRadians', 'to_date', 'to_json', 'to_timestamp', 'to_utc_timestamp', 'translate', 'trim', 'trunc', 'udf', 'unbase64', 'unhex', 'unix_timestamp', 'upper', 'var_pop', 'var_samp', 'variance', 'warnings', 'weekofyear', 'when', 'window', 'year']\n"
          ],
          "name": "stdout"
        }
      ]
    },
    {
      "cell_type": "markdown",
      "metadata": {
        "id": "nE19io8q-5TO"
      },
      "source": [
        "# Built in functions"
      ]
    },
    {
      "cell_type": "code",
      "metadata": {
        "id": "sloiIkG4-oHV"
      },
      "source": [
        "from pyspark.sql.functions import lower, upper, substring"
      ],
      "execution_count": 32,
      "outputs": []
    },
    {
      "cell_type": "code",
      "metadata": {
        "id": "9AwyvgT1OJk4",
        "colab": {
          "base_uri": "https://localhost:8080/"
        },
        "outputId": "5d85f0b5-5f57-4ccc-997b-e82767fdc158"
      },
      "source": [
        "help(substring)"
      ],
      "execution_count": 33,
      "outputs": [
        {
          "output_type": "stream",
          "text": [
            "Help on function substring in module pyspark.sql.functions:\n",
            "\n",
            "substring(str, pos, len)\n",
            "    Substring starts at `pos` and is of length `len` when str is String type or\n",
            "    returns the slice of byte array that starts at `pos` in byte and is of length `len`\n",
            "    when str is Binary type.\n",
            "    \n",
            "    .. note:: The position is not zero based, but 1 based index.\n",
            "    \n",
            "    >>> df = spark.createDataFrame([('abcd',)], ['s',])\n",
            "    >>> df.select(substring(df.s, 1, 2).alias('s')).collect()\n",
            "    [Row(s='ab')]\n",
            "    \n",
            "    .. versionadded:: 1.5\n",
            "\n"
          ],
          "name": "stdout"
        }
      ]
    },
    {
      "cell_type": "code",
      "metadata": {
        "id": "FVnkbAGsOLtF",
        "colab": {
          "base_uri": "https://localhost:8080/"
        },
        "outputId": "8fd06252-5263-46fe-ebe4-68a9d010c546"
      },
      "source": [
        "main_rc.select(lower(col('primary Type')), upper(col('Primary Type')), substring(col('Primary Type'),1,4)).show(5)"
      ],
      "execution_count": 34,
      "outputs": [
        {
          "output_type": "stream",
          "text": [
            "+-------------------+-------------------+-----------------------------+\n",
            "|lower(primary Type)|upper(Primary Type)|substring(Primary Type, 1, 4)|\n",
            "+-------------------+-------------------+-----------------------------+\n",
            "|            battery|            BATTERY|                         BATT|\n",
            "|              theft|              THEFT|                         THEF|\n",
            "|              theft|              THEFT|                         THEF|\n",
            "|          narcotics|          NARCOTICS|                         NARC|\n",
            "|            assault|            ASSAULT|                         ASSA|\n",
            "+-------------------+-------------------+-----------------------------+\n",
            "only showing top 5 rows\n",
            "\n"
          ],
          "name": "stdout"
        }
      ]
    },
    {
      "cell_type": "markdown",
      "metadata": {
        "id": "0ioFZB7cO4Uh"
      },
      "source": [
        "# Numeric Functions"
      ]
    },
    {
      "cell_type": "code",
      "metadata": {
        "id": "dqxLYLWMOumD"
      },
      "source": [
        "from pyspark.sql.functions import min, max"
      ],
      "execution_count": 35,
      "outputs": []
    },
    {
      "cell_type": "code",
      "metadata": {
        "id": "wZ8m1mtHO-jZ",
        "colab": {
          "base_uri": "https://localhost:8080/"
        },
        "outputId": "ee52855d-57e8-4654-d37b-20588502c4b9"
      },
      "source": [
        "main_rc.select(min(col('Date')), max(col('Date'))).show(5)"
      ],
      "execution_count": 36,
      "outputs": [
        {
          "output_type": "stream",
          "text": [
            "+-------------------+-------------------+\n",
            "|          min(Date)|          max(Date)|\n",
            "+-------------------+-------------------+\n",
            "|2001-01-01 00:00:00|2018-11-10 23:55:00|\n",
            "+-------------------+-------------------+\n",
            "\n"
          ],
          "name": "stdout"
        }
      ]
    },
    {
      "cell_type": "markdown",
      "metadata": {
        "id": "SIgfRaDTQLLN"
      },
      "source": [
        "# Date\n",
        "\n",
        "what is the 3 day earlier then the oldest date and 3 days earlier then the lastest date"
      ]
    },
    {
      "cell_type": "code",
      "metadata": {
        "id": "qyLdhNTPPtCA"
      },
      "source": [
        "from pyspark.sql.functions import date_add, date_sub"
      ],
      "execution_count": 37,
      "outputs": []
    },
    {
      "cell_type": "code",
      "metadata": {
        "id": "uElwhVmAQbc0",
        "colab": {
          "base_uri": "https://localhost:8080/"
        },
        "outputId": "0520b60a-d4da-4711-d0ea-4b292738bacd"
      },
      "source": [
        "help(date_add)"
      ],
      "execution_count": 38,
      "outputs": [
        {
          "output_type": "stream",
          "text": [
            "Help on function date_add in module pyspark.sql.functions:\n",
            "\n",
            "date_add(start, days)\n",
            "    Returns the date that is `days` days after `start`\n",
            "    \n",
            "    >>> df = spark.createDataFrame([('2015-04-08',)], ['dt'])\n",
            "    >>> df.select(date_add(df.dt, 1).alias('next_date')).collect()\n",
            "    [Row(next_date=datetime.date(2015, 4, 9))]\n",
            "    \n",
            "    .. versionadded:: 1.5\n",
            "\n"
          ],
          "name": "stdout"
        }
      ]
    },
    {
      "cell_type": "code",
      "metadata": {
        "id": "JXYHzpbMQfVz",
        "colab": {
          "base_uri": "https://localhost:8080/"
        },
        "outputId": "0c860959-9b94-458a-a468-0cae34309481"
      },
      "source": [
        "main_rc.select(date_sub(min(col('Date')),3), date_add(max(col('Date')),3)).show(1)"
      ],
      "execution_count": 39,
      "outputs": [
        {
          "output_type": "stream",
          "text": [
            "+----------------------+----------------------+\n",
            "|date_sub(min(Date), 3)|date_add(max(Date), 3)|\n",
            "+----------------------+----------------------+\n",
            "|            2000-12-29|            2018-11-13|\n",
            "+----------------------+----------------------+\n",
            "\n"
          ],
          "name": "stdout"
        }
      ]
    },
    {
      "cell_type": "code",
      "metadata": {
        "id": "MKgWoN8mQ3ty"
      },
      "source": [
        "from pyspark.sql.functions import to_date, to_timestamp, lit"
      ],
      "execution_count": 40,
      "outputs": []
    },
    {
      "cell_type": "code",
      "metadata": {
        "id": "K3DS96zlSMSd",
        "colab": {
          "base_uri": "https://localhost:8080/"
        },
        "outputId": "6ced45fd-bb9d-4ac5-b087-e0e4800e7255"
      },
      "source": [
        "dfc = spark.createDataFrame([('2019-12-25 13:30:00',)], ['Christmas'])\n",
        "dfc.show()"
      ],
      "execution_count": 41,
      "outputs": [
        {
          "output_type": "stream",
          "text": [
            "+-------------------+\n",
            "|          Christmas|\n",
            "+-------------------+\n",
            "|2019-12-25 13:30:00|\n",
            "+-------------------+\n",
            "\n"
          ],
          "name": "stdout"
        }
      ]
    },
    {
      "cell_type": "code",
      "metadata": {
        "id": "MZOnMFCHStx5",
        "colab": {
          "base_uri": "https://localhost:8080/"
        },
        "outputId": "873532e9-7b10-4d6e-ddf5-5b29703b74bc"
      },
      "source": [
        "dfc.select(to_date(col('Christmas'), 'yyyy-MM-dd HH:mm:ss'), to_timestamp(col('Christmas'), 'yyyy-MM-dd HH:mm:ss')).show(1)"
      ],
      "execution_count": 42,
      "outputs": [
        {
          "output_type": "stream",
          "text": [
            "+-------------------------------------------+------------------------------------------------+\n",
            "|to_date(`Christmas`, 'yyyy-MM-dd HH:mm:ss')|to_timestamp(`Christmas`, 'yyyy-MM-dd HH:mm:ss')|\n",
            "+-------------------------------------------+------------------------------------------------+\n",
            "|                                 2019-12-25|                             2019-12-25 13:30:00|\n",
            "+-------------------------------------------+------------------------------------------------+\n",
            "\n"
          ],
          "name": "stdout"
        }
      ]
    },
    {
      "cell_type": "code",
      "metadata": {
        "id": "9rKikxPUTMfc",
        "colab": {
          "base_uri": "https://localhost:8080/"
        },
        "outputId": "131b042d-3b5e-4c64-96c2-14dc61ac95aa"
      },
      "source": [
        "dfd = spark.createDataFrame([('25/Dec/2019 13:30:00',)], ['Christmas'])\n",
        "dfd.show()"
      ],
      "execution_count": 43,
      "outputs": [
        {
          "output_type": "stream",
          "text": [
            "+--------------------+\n",
            "|           Christmas|\n",
            "+--------------------+\n",
            "|25/Dec/2019 13:30:00|\n",
            "+--------------------+\n",
            "\n"
          ],
          "name": "stdout"
        }
      ]
    },
    {
      "cell_type": "code",
      "metadata": {
        "id": "IoXibAHxT6l0",
        "colab": {
          "base_uri": "https://localhost:8080/"
        },
        "outputId": "9b9e5312-f2ed-4d2f-a417-3cb9eae38cf1"
      },
      "source": [
        "dfd.select(to_date(col('Christmas'), 'dd/MMM/yyyy HH:mm:ss'), to_timestamp(col('Christmas'), 'dd/MMM/yyyy HH:mm:ss')).show(1)"
      ],
      "execution_count": 44,
      "outputs": [
        {
          "output_type": "stream",
          "text": [
            "+--------------------------------------------+-------------------------------------------------+\n",
            "|to_date(`Christmas`, 'dd/MMM/yyyy HH:mm:ss')|to_timestamp(`Christmas`, 'dd/MMM/yyyy HH:mm:ss')|\n",
            "+--------------------------------------------+-------------------------------------------------+\n",
            "|                                  2019-12-25|                              2019-12-25 13:30:00|\n",
            "+--------------------------------------------+-------------------------------------------------+\n",
            "\n"
          ],
          "name": "stdout"
        }
      ]
    },
    {
      "cell_type": "code",
      "metadata": {
        "id": "gX9Xrev1UU1h",
        "colab": {
          "base_uri": "https://localhost:8080/"
        },
        "outputId": "e38499ed-c52c-4159-c5bb-f06380fbe0f9"
      },
      "source": [
        "dfe = spark.createDataFrame([('12/25/2019 01:30:00 PM',)], ['Christmas'])\n",
        "dfe.show(1, truncate=False)"
      ],
      "execution_count": 45,
      "outputs": [
        {
          "output_type": "stream",
          "text": [
            "+----------------------+\n",
            "|Christmas             |\n",
            "+----------------------+\n",
            "|12/25/2019 01:30:00 PM|\n",
            "+----------------------+\n",
            "\n"
          ],
          "name": "stdout"
        }
      ]
    },
    {
      "cell_type": "code",
      "metadata": {
        "id": "hdh7ThGtVAcv",
        "colab": {
          "base_uri": "https://localhost:8080/"
        },
        "outputId": "06020431-e8ed-4eb9-f1fd-cacefaa7664f"
      },
      "source": [
        "dfe.select(to_date(col('Christmas'), 'MM/dd/yyyy hh:mm:ss aa'), to_timestamp(col('Christmas'), 'MM/dd/yyyy hh:mm:ss aa')).show(1)"
      ],
      "execution_count": 46,
      "outputs": [
        {
          "output_type": "stream",
          "text": [
            "+----------------------------------------------+---------------------------------------------------+\n",
            "|to_date(`Christmas`, 'MM/dd/yyyy hh:mm:ss aa')|to_timestamp(`Christmas`, 'MM/dd/yyyy hh:mm:ss aa')|\n",
            "+----------------------------------------------+---------------------------------------------------+\n",
            "|                                    2019-12-25|                                2019-12-25 13:30:00|\n",
            "+----------------------------------------------+---------------------------------------------------+\n",
            "\n"
          ],
          "name": "stdout"
        }
      ]
    },
    {
      "cell_type": "code",
      "metadata": {
        "id": "zoAf0kKfVQ3R",
        "colab": {
          "base_uri": "https://localhost:8080/"
        },
        "outputId": "9c692ccb-238f-4ba6-bbfa-3a15e5d8ab6a"
      },
      "source": [
        "nrc= spark.read.csv('/content/drive/MyDrive/Data/reported-crimes.csv',header=True)\n",
        "nrc.show(5, truncate=False)"
      ],
      "execution_count": 47,
      "outputs": [
        {
          "output_type": "stream",
          "text": [
            "+--------+-----------+----------------------+---------------------+----+------------+-----------------------+--------------------+------+--------+----+--------+----+--------------+--------+------------+------------+----+----------------------+------------+-------------+-----------------------------+\n",
            "|ID      |Case Number|Date                  |Block                |IUCR|Primary Type|Description            |Location Description|Arrest|Domestic|Beat|District|Ward|Community Area|FBI Code|X Coordinate|Y Coordinate|Year|Updated On            |Latitude    |Longitude    |Location                     |\n",
            "+--------+-----------+----------------------+---------------------+----+------------+-----------------------+--------------------+------+--------+----+--------+----+--------------+--------+------------+------------+----+----------------------+------------+-------------+-----------------------------+\n",
            "|10224738|HY411648   |09/05/2015 01:30:00 PM|043XX S WOOD ST      |0486|BATTERY     |DOMESTIC BATTERY SIMPLE|RESIDENCE           |false |true    |0924|009     |12  |61            |08B     |1165074     |1875917     |2015|02/10/2018 03:50:01 PM|41.815117282|-87.669999562|(41.815117282, -87.669999562)|\n",
            "|10224739|HY411615   |09/04/2015 11:30:00 AM|008XX N CENTRAL AVE  |0870|THEFT       |POCKET-PICKING         |CTA BUS             |false |false   |1511|015     |29  |25            |06      |1138875     |1904869     |2015|02/10/2018 03:50:01 PM|41.895080471|-87.765400451|(41.895080471, -87.765400451)|\n",
            "|11646166|JC213529   |09/01/2018 12:01:00 AM|082XX S INGLESIDE AVE|0810|THEFT       |OVER $500              |RESIDENCE           |false |true    |0631|006     |8   |44            |06      |null        |null        |2018|04/06/2019 04:04:43 PM|null        |null         |null                         |\n",
            "|10224740|HY411595   |09/05/2015 12:45:00 PM|035XX W BARRY AVE    |2023|NARCOTICS   |POSS: HEROIN(BRN/TAN)  |SIDEWALK            |true  |false   |1412|014     |35  |21            |18      |1152037     |1920384     |2015|02/10/2018 03:50:01 PM|41.937405765|-87.716649687|(41.937405765, -87.716649687)|\n",
            "|10224741|HY411610   |09/05/2015 01:00:00 PM|0000X N LARAMIE AVE  |0560|ASSAULT     |SIMPLE                 |APARTMENT           |false |true    |1522|015     |28  |25            |08A     |1141706     |1900086     |2015|02/10/2018 03:50:01 PM|41.881903443|-87.755121152|(41.881903443, -87.755121152)|\n",
            "+--------+-----------+----------------------+---------------------+----+------------+-----------------------+--------------------+------+--------+----+--------+----+--------------+--------+------------+------------+----+----------------------+------------+-------------+-----------------------------+\n",
            "only showing top 5 rows\n",
            "\n"
          ],
          "name": "stdout"
        }
      ]
    },
    {
      "cell_type": "markdown",
      "metadata": {
        "id": "5ohBtJBRrMMN"
      },
      "source": [
        "# Join with police station Dataset"
      ]
    },
    {
      "cell_type": "code",
      "metadata": {
        "id": "9a4YDehgrL1I"
      },
      "source": [
        ""
      ],
      "execution_count": 47,
      "outputs": []
    },
    {
      "cell_type": "code",
      "metadata": {
        "id": "JS5uCf8bWG5h",
        "colab": {
          "base_uri": "https://localhost:8080/"
        },
        "outputId": "bc0ad49d-1e83-4ff2-b1bd-fbfd8f3f1f20"
      },
      "source": [
        "ps = spark.read.csv('/content/drive/MyDrive/Data/Police_Stations.csv',header=True)\n",
        "ps.show(5, truncate=False)"
      ],
      "execution_count": 48,
      "outputs": [
        {
          "output_type": "stream",
          "text": [
            "+------------+-------------+-------------------+-------+-----+-----+----------------------------------------------------------------------------+------------+------------+------------+------------+------------+-----------+------------+-------------------------------+\n",
            "|DISTRICT    |DISTRICT NAME|ADDRESS            |CITY   |STATE|ZIP  |WEBSITE                                                                     |PHONE       |FAX         |TTY         |X COORDINATE|Y COORDINATE|LATITUDE   |LONGITUDE   |LOCATION                       |\n",
            "+------------+-------------+-------------------+-------+-----+-----+----------------------------------------------------------------------------+------------+------------+------------+------------+------------+-----------+------------+-------------------------------+\n",
            "|Headquarters|Headquarters |3510 S Michigan Ave|Chicago|IL   |60653|http://home.chicagopolice.org                                               |null        |null        |null        |1177731.401 |1881697.404 |41.83070169|-87.62339535|(41.8307016873, -87.6233953459)|\n",
            "|18          |Near North   |1160 N Larrabee St |Chicago|IL   |60610|http://home.chicagopolice.org/community/districts/18th-district-near-north/ |312-742-5870|312-742-5771|312-742-5773|1172080.029 |1908086.527 |41.90324165|-87.64335214|(41.9032416531, -87.6433521393)|\n",
            "|19          |Town Hall    |850 W Addison St   |Chicago|IL   |60613|http://home.chicagopolice.org/community/districts/19th-district-town-hall/  |312-744-8320|312-744-4481|312-744-8011|1169730.744 |1924160.317 |41.94740046|-87.65151202|(41.9474004564, -87.651512018) |\n",
            "|20          |Lincoln      |5400 N Lincoln Ave |Chicago|IL   |60625|http://home.chicagopolice.org/community/districts/20th-district-lincoln/    |312-742-8714|312-742-8803|312-742-8841|1158399.146 |1935788.826 |41.97954951|-87.69284451|(41.9795495131, -87.6928445094)|\n",
            "|22          |Morgan Park  |1900 W Monterey Ave|Chicago|IL   |60643|http://home.chicagopolice.org/community/districts/22nd-district-morgan-park/|312-745-0710|312-745-0814|312-745-0569|1165825.476 |1830851.333 |41.69143478|-87.66852039|(41.6914347795, -87.6685203937)|\n",
            "+------------+-------------+-------------------+-------+-----+-----+----------------------------------------------------------------------------+------------+------------+------------+------------+------------+-----------+------------+-------------------------------+\n",
            "only showing top 5 rows\n",
            "\n"
          ],
          "name": "stdout"
        }
      ]
    },
    {
      "cell_type": "code",
      "metadata": {
        "colab": {
          "base_uri": "https://localhost:8080/"
        },
        "id": "HW4XvDSXrIkz",
        "outputId": "3ec22873-5509-4ce9-d9e0-9200803d59ce"
      },
      "source": [
        "main_rc.cache()\n",
        "main_rc.count()"
      ],
      "execution_count": 49,
      "outputs": [
        {
          "output_type": "execute_result",
          "data": {
            "text/plain": [
              "6754254"
            ]
          },
          "metadata": {
            "tags": []
          },
          "execution_count": 49
        }
      ]
    },
    {
      "cell_type": "code",
      "metadata": {
        "colab": {
          "base_uri": "https://localhost:8080/"
        },
        "id": "3D7BveLYrUGS",
        "outputId": "698850c4-694b-4cce-f644-e004380b4de0"
      },
      "source": [
        "ps.select(col('DISTRICT')).distinct().show(20)"
      ],
      "execution_count": 50,
      "outputs": [
        {
          "output_type": "stream",
          "text": [
            "+------------+\n",
            "|    DISTRICT|\n",
            "+------------+\n",
            "|           7|\n",
            "|          15|\n",
            "|          11|\n",
            "|           3|\n",
            "|           8|\n",
            "|          22|\n",
            "|          16|\n",
            "|           5|\n",
            "|          18|\n",
            "|          17|\n",
            "|           6|\n",
            "|          19|\n",
            "|          25|\n",
            "|Headquarters|\n",
            "|          24|\n",
            "|           9|\n",
            "|           1|\n",
            "|          20|\n",
            "|          10|\n",
            "|           4|\n",
            "+------------+\n",
            "only showing top 20 rows\n",
            "\n"
          ],
          "name": "stdout"
        }
      ]
    },
    {
      "cell_type": "code",
      "metadata": {
        "colab": {
          "base_uri": "https://localhost:8080/"
        },
        "id": "0PfdH9Z5r-ek",
        "outputId": "610b26f4-5fa7-49db-b1a0-39f759a1f9e8"
      },
      "source": [
        "main_rc.select(col('District')).distinct().show(20)"
      ],
      "execution_count": 51,
      "outputs": [
        {
          "output_type": "stream",
          "text": [
            "+--------+\n",
            "|District|\n",
            "+--------+\n",
            "|     009|\n",
            "|     012|\n",
            "|     024|\n",
            "|    null|\n",
            "|     031|\n",
            "|     015|\n",
            "|     006|\n",
            "|     019|\n",
            "|     020|\n",
            "|     011|\n",
            "|     025|\n",
            "|     005|\n",
            "|     003|\n",
            "|     016|\n",
            "|     018|\n",
            "|     008|\n",
            "|     022|\n",
            "|     001|\n",
            "|     014|\n",
            "|     010|\n",
            "+--------+\n",
            "only showing top 20 rows\n",
            "\n"
          ],
          "name": "stdout"
        }
      ]
    },
    {
      "cell_type": "code",
      "metadata": {
        "id": "dKjcYr0FsL8M"
      },
      "source": [
        "from pyspark.sql.functions import lpad"
      ],
      "execution_count": 52,
      "outputs": []
    },
    {
      "cell_type": "code",
      "metadata": {
        "colab": {
          "base_uri": "https://localhost:8080/"
        },
        "id": "6GO5Oi4rspGf",
        "outputId": "cba2c03b-53d9-4caf-d43b-6b1af874bdcc"
      },
      "source": [
        "help(lpad)"
      ],
      "execution_count": 53,
      "outputs": [
        {
          "output_type": "stream",
          "text": [
            "Help on function lpad in module pyspark.sql.functions:\n",
            "\n",
            "lpad(col, len, pad)\n",
            "    Left-pad the string column to width `len` with `pad`.\n",
            "    \n",
            "    >>> df = spark.createDataFrame([('abcd',)], ['s',])\n",
            "    >>> df.select(lpad(df.s, 6, '#').alias('s')).collect()\n",
            "    [Row(s='##abcd')]\n",
            "    \n",
            "    .. versionadded:: 1.5\n",
            "\n"
          ],
          "name": "stdout"
        }
      ]
    },
    {
      "cell_type": "code",
      "metadata": {
        "colab": {
          "base_uri": "https://localhost:8080/"
        },
        "id": "vPf5aMC9sqNB",
        "outputId": "0f304e47-6b22-4970-c882-655fe904752d"
      },
      "source": [
        "ps.select(lpad(col('DISTRICT'), 3, '0')).show(20)"
      ],
      "execution_count": 54,
      "outputs": [
        {
          "output_type": "stream",
          "text": [
            "+--------------------+\n",
            "|lpad(DISTRICT, 3, 0)|\n",
            "+--------------------+\n",
            "|                 Hea|\n",
            "|                 018|\n",
            "|                 019|\n",
            "|                 020|\n",
            "|                 022|\n",
            "|                 024|\n",
            "|                 025|\n",
            "|                 001|\n",
            "|                 002|\n",
            "|                 003|\n",
            "|                 004|\n",
            "|                 005|\n",
            "|                 006|\n",
            "|                 007|\n",
            "|                 008|\n",
            "|                 009|\n",
            "|                 010|\n",
            "|                 011|\n",
            "|                 012|\n",
            "|                 \",C|\n",
            "+--------------------+\n",
            "only showing top 20 rows\n",
            "\n"
          ],
          "name": "stdout"
        }
      ]
    },
    {
      "cell_type": "code",
      "metadata": {
        "colab": {
          "base_uri": "https://localhost:8080/"
        },
        "id": "ylAiW4WTs_Sw",
        "outputId": "843f76a1-4e94-482d-dee9-9e17e6582b41"
      },
      "source": [
        "ps = ps.withColumn('format_district', lpad(col('DISTRICT'), 3, '0'))\n",
        "ps.show()"
      ],
      "execution_count": 55,
      "outputs": [
        {
          "output_type": "stream",
          "text": [
            "+--------------------+-----------------+--------------------+-------+-----+-----+--------------------+------------+------------+------------+------------+------------+-----------+------------+--------------------+---------------+\n",
            "|            DISTRICT|    DISTRICT NAME|             ADDRESS|   CITY|STATE|  ZIP|             WEBSITE|       PHONE|         FAX|         TTY|X COORDINATE|Y COORDINATE|   LATITUDE|   LONGITUDE|            LOCATION|format_district|\n",
            "+--------------------+-----------------+--------------------+-------+-----+-----+--------------------+------------+------------+------------+------------+------------+-----------+------------+--------------------+---------------+\n",
            "|        Headquarters|     Headquarters| 3510 S Michigan Ave|Chicago|   IL|60653|http://home.chica...|        null|        null|        null| 1177731.401| 1881697.404|41.83070169|-87.62339535|(41.8307016873, -...|            Hea|\n",
            "|                  18|       Near North|  1160 N Larrabee St|Chicago|   IL|60610|http://home.chica...|312-742-5870|312-742-5771|312-742-5773| 1172080.029| 1908086.527|41.90324165|-87.64335214|(41.9032416531, -...|            018|\n",
            "|                  19|        Town Hall|    850 W Addison St|Chicago|   IL|60613|http://home.chica...|312-744-8320|312-744-4481|312-744-8011| 1169730.744| 1924160.317|41.94740046|-87.65151202|(41.9474004564, -...|            019|\n",
            "|                  20|          Lincoln|  5400 N Lincoln Ave|Chicago|   IL|60625|http://home.chica...|312-742-8714|312-742-8803|312-742-8841| 1158399.146| 1935788.826|41.97954951|-87.69284451|(41.9795495131, -...|            020|\n",
            "|                  22|      Morgan Park| 1900 W Monterey Ave|Chicago|   IL|60643|http://home.chica...|312-745-0710|312-745-0814|312-745-0569| 1165825.476| 1830851.333|41.69143478|-87.66852039|(41.6914347795, -...|            022|\n",
            "|                  24|      Rogers Park|     6464 N Clark St|Chicago|   IL|60626|http://home.chica...|312-744-5907|312-744-6928|312-744-7603| 1164193.588| 1943199.401|41.99976348|-87.67132429|(41.9997634842, -...|            024|\n",
            "|                  25|    Grand Central|    5555 W Grand Ave|Chicago|   IL|60639|http://home.chica...|312-746-8605|312-746-4353|312-746-8383| 1138770.871| 1913442.439|41.91860889|-87.76557448|(41.9186088912, -...|            025|\n",
            "|                   1|          Central|     1718 S State St|Chicago|   IL|60616|http://home.chica...|312-745-4290|312-745-3694|312-745-3693| 1176569.052| 1891771.704|41.85837259|-87.62735617|(41.8583725929, -...|            001|\n",
            "|                   2|        Wentworth|5101 S Wentworth Ave|Chicago|   IL|60609|http://home.chica...|312-747-8366|312-747-5396|312-747-6656| 1175864.837| 1871153.753|41.80181109|-87.63056018|(41.8018110912, -...|            002|\n",
            "|                   3|   Grand Crossing|7040 S Cottage Gr...|Chicago|   IL|60637|http://home.chica...|312-747-8201|312-747-5479|312-747-9168| 1182739.183| 1858317.732|41.76643089|-87.60574786|(41.7664308925, -...|            003|\n",
            "|                   4|    South Chicago|     2255 E 103rd St|Chicago|   IL|60617|http://home.chica...|312-747-7581|312-747-5276|312-747-9169| 1193131.299| 1837090.265|41.70793329|-87.56834912|(41.7079332906, -...|            004|\n",
            "|                   5|          Calumet|      727 E 111th St|Chicago|   IL|60628|http://home.chica...|312-747-8210|312-747-5935|312-747-9170| 1183305.427| 1831462.313|41.69272336|-87.60450587|(41.6927233639, -...|            005|\n",
            "|                   6|          Gresham|   7808 S Halsted St|Chicago|   IL|60620|http://home.chica...|312-745-3617|312-745-3649|312-745-3639| 1172283.013| 1853022.646|41.75213684|-87.64422891|(41.7521368378, -...|            006|\n",
            "|                   7|        Englewood|      1438 W 63rd St|Chicago|   IL|60636|http://home.chica...|312-747-8223|312-747-6558|312-747-6652| 1167659.235| 1863005.522|41.77963154|-87.66088702|(41.7796315359, -...|            007|\n",
            "|                   8|     Chicago Lawn|      3420 W 63rd St|Chicago|   IL|60629|http://home.chica...|312-747-8730|312-747-8545|312-747-8116| 1154575.242| 1862672.049|41.77898719|-87.70886382|(41.778987189, -8...|            008|\n",
            "|                   9|          Deering|   3120 S Halsted St|Chicago|   IL|60608|http://home.chica...|312-747-8227|312-747-5329|312-747-9172|  1171440.24| 1884085.224|41.83739443|-87.64640771|(41.8373944311, -...|            009|\n",
            "|                  10|            Ogden|    3315 W Ogden Ave|Chicago|   IL|60623|http://home.chica...|312-747-7511|312-747-7429|312-747-7471| 1154500.753| 1890985.501|41.85668453|-87.70838196|(41.8566845327, -...|            010|\n",
            "|                  11|         Harrison|  3151 W Harrison St|Chicago|   IL|60612|http://home.chica...|312-746-8386|312-746-4281|312-746-5151| 1155244.069| 1897148.755|41.87358229|-87.70548813|(41.8735822883, -...|            011|\n",
            "|                  12|        Near West|1412 S Blue Islan...|   null| null| null|                null|        null|        null|        null|        null|        null|       null|        null|                null|            012|\n",
            "|\",Chicago,IL,6060...| -87.6569725149)\"|                null|   null| null| null|                null|        null|        null|        null|        null|        null|       null|        null|                null|            \",C|\n",
            "+--------------------+-----------------+--------------------+-------+-----+-----+--------------------+------------+------------+------------+------------+------------+-----------+------------+--------------------+---------------+\n",
            "only showing top 20 rows\n",
            "\n"
          ],
          "name": "stdout"
        }
      ]
    },
    {
      "cell_type": "code",
      "metadata": {
        "colab": {
          "base_uri": "https://localhost:8080/"
        },
        "id": "CksSijgMtbAL",
        "outputId": "5bd4f1f7-1414-4134-c3fa-57b3d45ca545"
      },
      "source": [
        "main_rc.join(ps, main_rc.District == ps.format_district, 'left_outer').show()"
      ],
      "execution_count": 56,
      "outputs": [
        {
          "output_type": "stream",
          "text": [
            "+--------+-----------+-------------------+--------------------+----+------------------+--------------------+--------------------+------+--------+----+--------+----+--------------+--------+------------+------------+----+--------------------+------------+-------------+--------------------+--------+--------------+--------------------+-------+-----+-----+--------------------+------------+------------+------------+------------+------------+-----------+------------+--------------------+---------------+\n",
            "|      ID|Case Number|               Date|               Block|IUCR|      Primary Type|         Description|Location Description|Arrest|Domestic|Beat|District|Ward|Community Area|FBI Code|X Coordinate|Y Coordinate|Year|          Updated On|    Latitude|    Longitude|            Location|DISTRICT| DISTRICT NAME|             ADDRESS|   CITY|STATE|  ZIP|             WEBSITE|       PHONE|         FAX|         TTY|X COORDINATE|Y COORDINATE|   LATITUDE|   LONGITUDE|            LOCATION|format_district|\n",
            "+--------+-----------+-------------------+--------------------+----+------------------+--------------------+--------------------+------+--------+----+--------+----+--------------+--------+------------+------------+----+--------------------+------------+-------------+--------------------+--------+--------------+--------------------+-------+-----+-----+--------------------+------------+------------+------------+------------+------------+-----------+------------+--------------------+---------------+\n",
            "|10224738|   HY411648|2015-09-05 13:30:00|     043XX S WOOD ST|0486|           BATTERY|DOMESTIC BATTERY ...|           RESIDENCE| false|    true|0924|     009|  12|            61|     08B|     1165074|     1875917|2015|02/10/2018 03:50:...|41.815117282|-87.669999562|(41.815117282, -8...|       9|       Deering|   3120 S Halsted St|Chicago|   IL|60608|http://home.chica...|312-747-8227|312-747-5329|312-747-9172|  1171440.24| 1884085.224|41.83739443|-87.64640771|(41.8373944311, -...|            009|\n",
            "|10224739|   HY411615|2015-09-04 11:30:00| 008XX N CENTRAL AVE|0870|             THEFT|      POCKET-PICKING|             CTA BUS| false|   false|1511|     015|  29|            25|      06|     1138875|     1904869|2015|02/10/2018 03:50:...|41.895080471|-87.765400451|(41.895080471, -8...|      15|        Austin|   5701 W Madison St|Chicago|   IL|60644|http://home.chica...|312-743-1440|312-743-1366|312-743-1485| 1138148.815| 1899399.078|41.88008346|-87.76819989|(41.8800834614, -...|            015|\n",
            "|11646166|   JC213529|2018-09-01 00:01:00|082XX S INGLESIDE...|0810|             THEFT|           OVER $500|           RESIDENCE| false|    true|0631|     006|   8|            44|      06|        null|        null|2018|04/06/2019 04:04:...|        null|         null|                null|       6|       Gresham|   7808 S Halsted St|Chicago|   IL|60620|http://home.chica...|312-745-3617|312-745-3649|312-745-3639| 1172283.013| 1853022.646|41.75213684|-87.64422891|(41.7521368378, -...|            006|\n",
            "|10224740|   HY411595|2015-09-05 12:45:00|   035XX W BARRY AVE|2023|         NARCOTICS|POSS: HEROIN(BRN/...|            SIDEWALK|  true|   false|1412|     014|  35|            21|      18|     1152037|     1920384|2015|02/10/2018 03:50:...|41.937405765|-87.716649687|(41.937405765, -8...|      14|   Shakespeare|2150 N California...|Chicago|   IL|60647|http://home.chica...|312-744-8250|312-744-2422|312-744-8260| 1157304.426| 1914481.521|41.92110332|-87.69745182|(41.9211033246, -...|            014|\n",
            "|10224741|   HY411610|2015-09-05 13:00:00| 0000X N LARAMIE AVE|0560|           ASSAULT|              SIMPLE|           APARTMENT| false|    true|1522|     015|  28|            25|     08A|     1141706|     1900086|2015|02/10/2018 03:50:...|41.881903443|-87.755121152|(41.881903443, -8...|      15|        Austin|   5701 W Madison St|Chicago|   IL|60644|http://home.chica...|312-743-1440|312-743-1366|312-743-1485| 1138148.815| 1899399.078|41.88008346|-87.76819989|(41.8800834614, -...|            015|\n",
            "|10224742|   HY411435|2015-09-05 10:55:00| 082XX S LOOMIS BLVD|0610|          BURGLARY|      FORCIBLE ENTRY|           RESIDENCE| false|   false|0614|     006|  21|            71|      05|     1168430|     1850165|2015|02/10/2018 03:50:...|41.744378879|-87.658430635|(41.744378879, -8...|       6|       Gresham|   7808 S Halsted St|Chicago|   IL|60620|http://home.chica...|312-745-3617|312-745-3649|312-745-3639| 1172283.013| 1853022.646|41.75213684|-87.64422891|(41.7521368378, -...|            006|\n",
            "|10224743|   HY411629|2015-09-04 18:00:00|021XX W CHURCHILL ST|0620|          BURGLARY|      UNLAWFUL ENTRY|    RESIDENCE-GARAGE| false|   false|1434|     014|  32|            24|      05|     1161628|     1912157|2015|02/10/2018 03:50:...|41.914635603|-87.681630909|(41.914635603, -8...|      14|   Shakespeare|2150 N California...|Chicago|   IL|60647|http://home.chica...|312-744-8250|312-744-2422|312-744-8260| 1157304.426| 1914481.521|41.92110332|-87.69745182|(41.9211033246, -...|            014|\n",
            "|10224744|   HY411605|2015-09-05 13:00:00|   025XX W CERMAK RD|0860|             THEFT|        RETAIL THEFT|  GROCERY FOOD STORE|  true|   false|1034|     010|  25|            31|      06|     1159734|     1889313|2015|09/17/2015 11:37:...|41.851988885|-87.689219118|(41.851988885, -8...|      10|         Ogden|    3315 W Ogden Ave|Chicago|   IL|60623|http://home.chica...|312-747-7511|312-747-7429|312-747-7471| 1154500.753| 1890985.501|41.85668453|-87.70838196|(41.8566845327, -...|            010|\n",
            "|10224745|   HY411654|2015-09-05 11:30:00|031XX W WASHINGTO...|0320|           ROBBERY|STRONGARM - NO WE...|              STREET| false|    true|1222|     012|  27|            27|      03|     1155536|     1900515|2015|02/10/2018 03:50:...| 41.88281374|-87.704325717|(41.88281374, -87...|      12|     Near West|1412 S Blue Islan...|   null| null| null|                null|        null|        null|        null|        null|        null|       null|        null|                null|            012|\n",
            "|11645836|   JC212333|2016-05-01 00:25:00| 055XX S ROCKWELL ST|1153|DECEPTIVE PRACTICE|FINANCIAL IDENTIT...|                null| false|   false|0824|     008|  15|            63|      11|        null|        null|2016|04/06/2019 04:04:...|        null|         null|                null|       8|  Chicago Lawn|      3420 W 63rd St|Chicago|   IL|60629|http://home.chica...|312-747-8730|312-747-8545|312-747-8116| 1154575.242| 1862672.049|41.77898719|-87.70886382|(41.778987189, -8...|            008|\n",
            "|10224746|   HY411662|2015-09-05 14:00:00|  071XX S PULASKI RD|0820|             THEFT|      $500 AND UNDER|PARKING LOT/GARAG...| false|   false|0833|     008|  13|            65|      06|     1150938|     1857056|2015|02/10/2018 03:50:...|41.763647552|-87.722344693|(41.763647552, -8...|       8|  Chicago Lawn|      3420 W 63rd St|Chicago|   IL|60629|http://home.chica...|312-747-8730|312-747-8545|312-747-8116| 1154575.242| 1862672.049|41.77898719|-87.70886382|(41.778987189, -8...|            008|\n",
            "|10224749|   HY411626|2015-09-05 11:00:00|052XX N MILWAUKEE...|0460|           BATTERY|              SIMPLE|  SMALL RETAIL STORE| false|   false|1623|     016|  45|            11|     08B|     1137969|     1934340|2015|02/10/2018 03:50:...|41.975968415|-87.768014257|(41.975968415, -8...|      16|Jefferson Park|5151 N Milwaukee Ave|Chicago|   IL|60630|http://home.chica...|312-742-4480|312-742-4421|312-742-4423| 1138480.758| 1933660.473|41.97409445|-87.76614884|(41.9740944511, -...|            016|\n",
            "|10224750|   HY411632|2015-09-05 03:00:00|    0000X W 103RD ST|2820|     OTHER OFFENSE|    TELEPHONE THREAT|           APARTMENT| false|    true|0512|     005|  34|            49|      26|     1177871|     1836676|2015|02/10/2018 03:50:...|41.707154919|-87.624244993|(41.707154919, -8...|       5|       Calumet|      727 E 111th St|Chicago|   IL|60628|http://home.chica...|312-747-8210|312-747-5935|312-747-9170| 1183305.427| 1831462.313|41.69272336|-87.60450587|(41.6927233639, -...|            005|\n",
            "|10224751|   HY411566|2015-09-05 12:50:00|     013XX E 47TH ST|0486|           BATTERY|DOMESTIC BATTERY ...|              STREET| false|    true|0222|     002|   4|            39|     08B|     1185907|     1874105|2015|02/10/2018 03:50:...|41.809678314|-87.593638934|(41.809678314, -8...|       2|     Wentworth|5101 S Wentworth Ave|Chicago|   IL|60609|http://home.chica...|312-747-8366|312-747-5396|312-747-6656| 1175864.837| 1871153.753|41.80181109|-87.63056018|(41.8018110912, -...|            002|\n",
            "|10224752|   HY411601|2015-09-03 13:00:00| 020XX W SCHILLER ST|0810|             THEFT|           OVER $500|              STREET| false|   false|1424|     014|   1|            24|      06|     1162574|     1909428|2015|02/10/2018 03:50:...|41.907127255|-87.678232016|(41.907127255, -8...|      14|   Shakespeare|2150 N California...|Chicago|   IL|60647|http://home.chica...|312-744-8250|312-744-2422|312-744-8260| 1157304.426| 1914481.521|41.92110332|-87.69745182|(41.9211033246, -...|            014|\n",
            "|10224753|   HY411489|2015-09-05 11:45:00|  080XX S JUSTINE ST|0497|           BATTERY|AGGRAVATED DOMEST...|           APARTMENT| false|   false|0612|     006|  21|            71|     04B|     1167400|     1851512|2015|02/10/2018 03:50:...|41.748097343|-87.662166183|(41.748097343, -8...|       6|       Gresham|   7808 S Halsted St|Chicago|   IL|60620|http://home.chica...|312-745-3617|312-745-3649|312-745-3639| 1172283.013| 1853022.646|41.75213684|-87.64422891|(41.7521368378, -...|            006|\n",
            "|10224754|   HY411656|2015-09-05 13:30:00|007XX N LEAMINGTO...|1320|   CRIMINAL DAMAGE|          TO VEHICLE|              STREET| false|   false|1531|     015|  28|            25|      14|     1141889|     1904448|2015|02/10/2018 03:50:...|41.893869916|-87.754341096|(41.893869916, -8...|      15|        Austin|   5701 W Madison St|Chicago|   IL|60644|http://home.chica...|312-743-1440|312-743-1366|312-743-1485| 1138148.815| 1899399.078|41.88008346|-87.76819989|(41.8800834614, -...|            015|\n",
            "|10224756|   HY410094|2015-07-08 00:00:00|103XX S TORRENCE AVE|0620|          BURGLARY|      UNLAWFUL ENTRY|               OTHER| false|   false|0434|     004|  10|            51|      05|     1195508|     1836950|2015|02/10/2018 03:50:...|41.707490122|-87.559650325|(41.707490122, -8...|       4| South Chicago|     2255 E 103rd St|Chicago|   IL|60617|http://home.chica...|312-747-7581|312-747-5276|312-747-9169| 1193131.299| 1837090.265|41.70793329|-87.56834912|(41.7079332906, -...|            004|\n",
            "|10224757|   HY411388|2015-09-05 09:55:00|  088XX S PAULINA ST|0610|          BURGLARY|      FORCIBLE ENTRY|           RESIDENCE|  true|   false|2221|     022|  21|            71|      05|     1166554|     1846067|2015|02/10/2018 03:50:...|41.733173536|-87.665421067|(41.733173536, -8...|      22|   Morgan Park| 1900 W Monterey Ave|Chicago|   IL|60643|http://home.chica...|312-745-0710|312-745-0814|312-745-0569| 1165825.476| 1830851.333|41.69143478|-87.66852039|(41.6914347795, -...|            022|\n",
            "|10224758|   HY411568|2015-09-05 12:35:00|    059XX W GRACE ST|0486|           BATTERY|DOMESTIC BATTERY ...|              STREET| false|    true|1633|     016|  38|            15|     08B|     1136014|     1924656|2015|02/10/2018 03:50:...|41.949429769|-87.775435529|(41.949429769, -8...|      16|Jefferson Park|5151 N Milwaukee Ave|Chicago|   IL|60630|http://home.chica...|312-742-4480|312-742-4421|312-742-4423| 1138480.758| 1933660.473|41.97409445|-87.76614884|(41.9740944511, -...|            016|\n",
            "+--------+-----------+-------------------+--------------------+----+------------------+--------------------+--------------------+------+--------+----+--------+----+--------------+--------+------------+------------+----+--------------------+------------+-------------+--------------------+--------+--------------+--------------------+-------+-----+-----+--------------------+------------+------------+------------+------------+------------+-----------+------------+--------------------+---------------+\n",
            "only showing top 20 rows\n",
            "\n"
          ],
          "name": "stdout"
        }
      ]
    },
    {
      "cell_type": "code",
      "metadata": {
        "colab": {
          "base_uri": "https://localhost:8080/"
        },
        "id": "H9yWuMO4t5Lq",
        "outputId": "4ba9083b-a9ba-4329-92bb-4205025475e8"
      },
      "source": [
        "ps.columns"
      ],
      "execution_count": 57,
      "outputs": [
        {
          "output_type": "execute_result",
          "data": {
            "text/plain": [
              "['DISTRICT',\n",
              " 'DISTRICT NAME',\n",
              " 'ADDRESS',\n",
              " 'CITY',\n",
              " 'STATE',\n",
              " 'ZIP',\n",
              " 'WEBSITE',\n",
              " 'PHONE',\n",
              " 'FAX',\n",
              " 'TTY',\n",
              " 'X COORDINATE',\n",
              " 'Y COORDINATE',\n",
              " 'LATITUDE',\n",
              " 'LONGITUDE',\n",
              " 'LOCATION',\n",
              " 'format_district']"
            ]
          },
          "metadata": {
            "tags": []
          },
          "execution_count": 57
        }
      ]
    },
    {
      "cell_type": "code",
      "metadata": {
        "colab": {
          "base_uri": "https://localhost:8080/"
        },
        "id": "81ueKokGuavg",
        "outputId": "075d3f9b-8616-4891-fb8b-bfb569756e6a"
      },
      "source": [
        "main_rc.join(ps, main_rc.District == ps.format_district, 'left_outer').drop(\n",
        " 'ADDRESS',\n",
        " 'CITY',\n",
        " 'STATE',\n",
        " 'ZIP',\n",
        " 'WEBSITE',\n",
        " 'PHONE',\n",
        " 'FAX',\n",
        " 'TTY',\n",
        " 'X COORDINATE',\n",
        " 'Y COORDINATE',\n",
        " 'LATITUDE',\n",
        " 'LONGITUDE',\n",
        " 'LOCATION'\n",
        ").show()"
      ],
      "execution_count": 58,
      "outputs": [
        {
          "output_type": "stream",
          "text": [
            "+--------+-----------+-------------------+--------------------+----+------------------+--------------------+--------------------+------+--------+----+--------+----+--------------+--------+----+--------------------+--------+--------------+---------------+\n",
            "|      ID|Case Number|               Date|               Block|IUCR|      Primary Type|         Description|Location Description|Arrest|Domestic|Beat|District|Ward|Community Area|FBI Code|Year|          Updated On|DISTRICT| DISTRICT NAME|format_district|\n",
            "+--------+-----------+-------------------+--------------------+----+------------------+--------------------+--------------------+------+--------+----+--------+----+--------------+--------+----+--------------------+--------+--------------+---------------+\n",
            "|10224738|   HY411648|2015-09-05 13:30:00|     043XX S WOOD ST|0486|           BATTERY|DOMESTIC BATTERY ...|           RESIDENCE| false|    true|0924|     009|  12|            61|     08B|2015|02/10/2018 03:50:...|       9|       Deering|            009|\n",
            "|10224739|   HY411615|2015-09-04 11:30:00| 008XX N CENTRAL AVE|0870|             THEFT|      POCKET-PICKING|             CTA BUS| false|   false|1511|     015|  29|            25|      06|2015|02/10/2018 03:50:...|      15|        Austin|            015|\n",
            "|11646166|   JC213529|2018-09-01 00:01:00|082XX S INGLESIDE...|0810|             THEFT|           OVER $500|           RESIDENCE| false|    true|0631|     006|   8|            44|      06|2018|04/06/2019 04:04:...|       6|       Gresham|            006|\n",
            "|10224740|   HY411595|2015-09-05 12:45:00|   035XX W BARRY AVE|2023|         NARCOTICS|POSS: HEROIN(BRN/...|            SIDEWALK|  true|   false|1412|     014|  35|            21|      18|2015|02/10/2018 03:50:...|      14|   Shakespeare|            014|\n",
            "|10224741|   HY411610|2015-09-05 13:00:00| 0000X N LARAMIE AVE|0560|           ASSAULT|              SIMPLE|           APARTMENT| false|    true|1522|     015|  28|            25|     08A|2015|02/10/2018 03:50:...|      15|        Austin|            015|\n",
            "|10224742|   HY411435|2015-09-05 10:55:00| 082XX S LOOMIS BLVD|0610|          BURGLARY|      FORCIBLE ENTRY|           RESIDENCE| false|   false|0614|     006|  21|            71|      05|2015|02/10/2018 03:50:...|       6|       Gresham|            006|\n",
            "|10224743|   HY411629|2015-09-04 18:00:00|021XX W CHURCHILL ST|0620|          BURGLARY|      UNLAWFUL ENTRY|    RESIDENCE-GARAGE| false|   false|1434|     014|  32|            24|      05|2015|02/10/2018 03:50:...|      14|   Shakespeare|            014|\n",
            "|10224744|   HY411605|2015-09-05 13:00:00|   025XX W CERMAK RD|0860|             THEFT|        RETAIL THEFT|  GROCERY FOOD STORE|  true|   false|1034|     010|  25|            31|      06|2015|09/17/2015 11:37:...|      10|         Ogden|            010|\n",
            "|10224745|   HY411654|2015-09-05 11:30:00|031XX W WASHINGTO...|0320|           ROBBERY|STRONGARM - NO WE...|              STREET| false|    true|1222|     012|  27|            27|      03|2015|02/10/2018 03:50:...|      12|     Near West|            012|\n",
            "|11645836|   JC212333|2016-05-01 00:25:00| 055XX S ROCKWELL ST|1153|DECEPTIVE PRACTICE|FINANCIAL IDENTIT...|                null| false|   false|0824|     008|  15|            63|      11|2016|04/06/2019 04:04:...|       8|  Chicago Lawn|            008|\n",
            "|10224746|   HY411662|2015-09-05 14:00:00|  071XX S PULASKI RD|0820|             THEFT|      $500 AND UNDER|PARKING LOT/GARAG...| false|   false|0833|     008|  13|            65|      06|2015|02/10/2018 03:50:...|       8|  Chicago Lawn|            008|\n",
            "|10224749|   HY411626|2015-09-05 11:00:00|052XX N MILWAUKEE...|0460|           BATTERY|              SIMPLE|  SMALL RETAIL STORE| false|   false|1623|     016|  45|            11|     08B|2015|02/10/2018 03:50:...|      16|Jefferson Park|            016|\n",
            "|10224750|   HY411632|2015-09-05 03:00:00|    0000X W 103RD ST|2820|     OTHER OFFENSE|    TELEPHONE THREAT|           APARTMENT| false|    true|0512|     005|  34|            49|      26|2015|02/10/2018 03:50:...|       5|       Calumet|            005|\n",
            "|10224751|   HY411566|2015-09-05 12:50:00|     013XX E 47TH ST|0486|           BATTERY|DOMESTIC BATTERY ...|              STREET| false|    true|0222|     002|   4|            39|     08B|2015|02/10/2018 03:50:...|       2|     Wentworth|            002|\n",
            "|10224752|   HY411601|2015-09-03 13:00:00| 020XX W SCHILLER ST|0810|             THEFT|           OVER $500|              STREET| false|   false|1424|     014|   1|            24|      06|2015|02/10/2018 03:50:...|      14|   Shakespeare|            014|\n",
            "|10224753|   HY411489|2015-09-05 11:45:00|  080XX S JUSTINE ST|0497|           BATTERY|AGGRAVATED DOMEST...|           APARTMENT| false|   false|0612|     006|  21|            71|     04B|2015|02/10/2018 03:50:...|       6|       Gresham|            006|\n",
            "|10224754|   HY411656|2015-09-05 13:30:00|007XX N LEAMINGTO...|1320|   CRIMINAL DAMAGE|          TO VEHICLE|              STREET| false|   false|1531|     015|  28|            25|      14|2015|02/10/2018 03:50:...|      15|        Austin|            015|\n",
            "|10224756|   HY410094|2015-07-08 00:00:00|103XX S TORRENCE AVE|0620|          BURGLARY|      UNLAWFUL ENTRY|               OTHER| false|   false|0434|     004|  10|            51|      05|2015|02/10/2018 03:50:...|       4| South Chicago|            004|\n",
            "|10224757|   HY411388|2015-09-05 09:55:00|  088XX S PAULINA ST|0610|          BURGLARY|      FORCIBLE ENTRY|           RESIDENCE|  true|   false|2221|     022|  21|            71|      05|2015|02/10/2018 03:50:...|      22|   Morgan Park|            022|\n",
            "|10224758|   HY411568|2015-09-05 12:35:00|    059XX W GRACE ST|0486|           BATTERY|DOMESTIC BATTERY ...|              STREET| false|    true|1633|     016|  38|            15|     08B|2015|02/10/2018 03:50:...|      16|Jefferson Park|            016|\n",
            "+--------+-----------+-------------------+--------------------+----+------------------+--------------------+--------------------+------+--------+----+--------+----+--------------+--------+----+--------------------+--------+--------------+---------------+\n",
            "only showing top 20 rows\n",
            "\n"
          ],
          "name": "stdout"
        }
      ]
    },
    {
      "cell_type": "markdown",
      "metadata": {
        "id": "zRHsOiAVv6rb"
      },
      "source": [
        "# find non creminal"
      ]
    },
    {
      "cell_type": "code",
      "metadata": {
        "colab": {
          "base_uri": "https://localhost:8080/"
        },
        "id": "VGtj2I6KuyGQ",
        "outputId": "903f45c8-8c91-4132-ef5d-9f0ddc9303aa"
      },
      "source": [
        "main_rc.select(col('Primary type')).distinct().count()"
      ],
      "execution_count": 59,
      "outputs": [
        {
          "output_type": "execute_result",
          "data": {
            "text/plain": [
              "36"
            ]
          },
          "metadata": {
            "tags": []
          },
          "execution_count": 59
        }
      ]
    },
    {
      "cell_type": "code",
      "metadata": {
        "colab": {
          "base_uri": "https://localhost:8080/"
        },
        "id": "AmN_96THwDOy",
        "outputId": "984788f6-a85d-49a7-b77c-bd79c3f5186c"
      },
      "source": [
        "main_rc.select(col('Primary type')).distinct().orderBy(col('Primary Type')).show(36, truncate = False)"
      ],
      "execution_count": 60,
      "outputs": [
        {
          "output_type": "stream",
          "text": [
            "+---------------------------------+\n",
            "|Primary type                     |\n",
            "+---------------------------------+\n",
            "|ARSON                            |\n",
            "|ASSAULT                          |\n",
            "|BATTERY                          |\n",
            "|BURGLARY                         |\n",
            "|CONCEALED CARRY LICENSE VIOLATION|\n",
            "|CRIM SEXUAL ASSAULT              |\n",
            "|CRIMINAL DAMAGE                  |\n",
            "|CRIMINAL SEXUAL ASSAULT          |\n",
            "|CRIMINAL TRESPASS                |\n",
            "|DECEPTIVE PRACTICE               |\n",
            "|DOMESTIC VIOLENCE                |\n",
            "|GAMBLING                         |\n",
            "|HOMICIDE                         |\n",
            "|HUMAN TRAFFICKING                |\n",
            "|INTERFERENCE WITH PUBLIC OFFICER |\n",
            "|INTIMIDATION                     |\n",
            "|KIDNAPPING                       |\n",
            "|LIQUOR LAW VIOLATION             |\n",
            "|MOTOR VEHICLE THEFT              |\n",
            "|NARCOTICS                        |\n",
            "|NON - CRIMINAL                   |\n",
            "|NON-CRIMINAL                     |\n",
            "|NON-CRIMINAL (SUBJECT SPECIFIED) |\n",
            "|OBSCENITY                        |\n",
            "|OFFENSE INVOLVING CHILDREN       |\n",
            "|OTHER NARCOTIC VIOLATION         |\n",
            "|OTHER OFFENSE                    |\n",
            "|PROSTITUTION                     |\n",
            "|PUBLIC INDECENCY                 |\n",
            "|PUBLIC PEACE VIOLATION           |\n",
            "|RITUALISM                        |\n",
            "|ROBBERY                          |\n",
            "|SEX OFFENSE                      |\n",
            "|STALKING                         |\n",
            "|THEFT                            |\n",
            "|WEAPONS VIOLATION                |\n",
            "+---------------------------------+\n",
            "\n"
          ],
          "name": "stdout"
        }
      ]
    },
    {
      "cell_type": "code",
      "metadata": {
        "colab": {
          "base_uri": "https://localhost:8080/"
        },
        "id": "C5Zt98x2wNnV",
        "outputId": "ff654a88-2c73-47e8-d69d-24b0dd498da6"
      },
      "source": [
        "main_nc = main_rc.filter( (col('Primary type') == 'NON - CRIMINAL') | (col('Primary type') == 'NON-CRIMINAL') | (col('Primary type') == 'NON-CRIMINAL (SUBJECT SPECIFIED)'))\n",
        "main_nc.show(50)"
      ],
      "execution_count": 61,
      "outputs": [
        {
          "output_type": "stream",
          "text": [
            "+--------+-----------+-------------------+--------------------+----+--------------------+--------------------+--------------------+------+--------+----+--------+----+--------------+--------+------------+------------+----+--------------------+------------+-------------+--------------------+\n",
            "|      ID|Case Number|               Date|               Block|IUCR|        Primary Type|         Description|Location Description|Arrest|Domestic|Beat|District|Ward|Community Area|FBI Code|X Coordinate|Y Coordinate|Year|          Updated On|    Latitude|    Longitude|            Location|\n",
            "+--------+-----------+-------------------+--------------------+----+--------------------+--------------------+--------------------+------+--------+----+--------+----+--------------+--------+------------+------------+----+--------------------+------------+-------------+--------------------+\n",
            "|10233370|   HY421530|2015-09-13 10:45:00|  010XX S MENARD AVE|5114|      NON - CRIMINAL|   FOID - REVOCATION|           RESIDENCE|  true|   false|1513|     015|  29|            25|      26|     1137869|     1895239|2015|02/10/2018 03:50:...|41.868672696|-87.769327726|(41.868672696, -8...|\n",
            "|10241515|   HY429346|2015-09-19 07:45:00|051XX N MILWAUKEE...|5114|      NON - CRIMINAL|   FOID - REVOCATION|POLICE FACILITY/V...|  true|   false|1623|     016|  45|            11|      26|     1138424|     1933673|2015|02/10/2018 03:50:...|41.974129858|-87.766357256|(41.974129858, -8...|\n",
            "|10277370|   HY465290|2015-10-16 20:00:00|    100XX W OHARE ST|5093|        NON-CRIMINAL|       LOST PASSPORT|            AIRCRAFT| false|   false|1651|     016|  41|            76|      26|     1100658|     1934241|2015|02/10/2018 03:50:...|41.976290414|-87.905227221|(41.976290414, -8...|\n",
            "|10280097|   HY468448|2015-10-19 18:50:00|   033XX W OGDEN AVE|5114|      NON - CRIMINAL|   FOID - REVOCATION|POLICE FACILITY/V...| false|   false|1024|     010|  24|            29|      26|     1154489|     1891024|2015|02/10/2018 03:50:...|41.856790413|-87.708424071|(41.856790413, -8...|\n",
            "|10290745|   HY478502|2015-10-26 16:00:00|004XX W DIVERSEY ...|5093|        NON-CRIMINAL|       LOST PASSPORT|            SIDEWALK| false|   false|1934|     019|  44|             6|      26|     1172533|     1918887|2015|02/10/2018 03:50:...|41.932868651|-87.641368196|(41.932868651, -8...|\n",
            "|10296800|   HY485235|2015-09-30 17:00:00|008XX N MAPLEWOOD...|5093|        NON-CRIMINAL|       LOST PASSPORT|            SIDEWALK| false|   false|1211|     012|   1|            24|      26|     1159246|     1905582|2015|02/10/2018 03:50:...|41.896642608|-87.690563055|(41.896642608, -8...|\n",
            "|10300617|   HY489191|2015-11-03 15:00:00|  031XX S HALSTED ST|5114|      NON - CRIMINAL|   FOID - REVOCATION|           RESIDENCE| false|   false|0913|     009|  11|            60|      26|     1171479|     1884120|2015|02/10/2018 03:50:...|41.837489008|-87.646264459|(41.837489008, -8...|\n",
            "|10325994|   HY516457|2015-11-26 23:30:00|  001XX W HUBBARD ST|5093|        NON-CRIMINAL|       LOST PASSPORT|          RESTAURANT| false|   false|1831|     018|  42|             8|      26|     1175301|     1903292|2015|02/10/2018 03:50:...|41.890013524|-87.631664996|(41.890013524, -8...|\n",
            "|10157940|   HY347539|2015-07-08 10:30:00| 016XX W CHICAGO AVE|5093|        NON-CRIMINAL|       LOST PASSPORT|              STREET| false|   false|1215|     012|   1|            24|      26|     1165158|     1905410|2015|02/10/2018 03:50:...|41.896047034|-87.668854221|(41.896047034, -8...|\n",
            "|10181019|   HY369010|2015-08-01 10:15:00|  079XX S KEDZIE AVE|5114|      NON - CRIMINAL|   FOID - REVOCATION|           RESIDENCE| false|   false|0835|     008|  18|            70|      26|     1156427|     1851731|2015|02/10/2018 03:50:...|41.748926157| -87.70236927|(41.748926157, -8...|\n",
            "|11249289|   JB176638|2016-12-23 12:00:00| 0000X N CENTRAL AVE|5093|        NON-CRIMINAL|       LOST PASSPORT|           RESIDENCE| false|   false|1513|     015|  29|            25|      26|        null|        null|2016|03/08/2018 03:55:...|        null|         null|                null|\n",
            "|10202049|   HY389275|2015-08-19 18:38:00|025XX W MARQUETTE RD|5114|      NON - CRIMINAL|   FOID - REVOCATION|           APARTMENT| false|   false|0832|     008|  15|            66|      26|     1160388|     1860136|2015|02/10/2018 03:50:...|41.771910102|-87.687623385|(41.771910102, -8...|\n",
            "|10813751|   JA113073|2003-03-17 20:00:00| 029XX N MELVINA AVE|5093|        NON-CRIMINAL|       LOST PASSPORT|           RESIDENCE| false|   false|2511|     025|  29|            19|      26|        null|        null|2003|01/14/2017 03:49:...|        null|         null|                null|\n",
            "|10212100|   HY398571|2015-08-26 17:45:00|    017XX S STATE ST|0585|        NON-CRIMINAL|NOTIFICATION OF S...|POLICE FACILITY/V...|  true|   false|0131|     001|   3|            33|      26|     1176607|     1891853|2015|02/10/2018 03:50:...|41.858594819|-87.627214427|(41.858594819, -8...|\n",
            "|10213039|   HY398172|2015-08-26 11:45:00| 0000X W TERMINAL ST|5093|        NON-CRIMINAL|       LOST PASSPORT|AIRPORT TERMINAL ...| false|   false|1653|     016|  41|            76|      26|     1101811|     1934419|2015|02/10/2018 03:50:...|41.976762981|-87.900983721|(41.976762981, -8...|\n",
            "|10221247|   HY406742|2015-09-01 22:00:00| 031XX W HARRISON ST|5114|      NON - CRIMINAL|   FOID - REVOCATION|POLICE FACILITY/V...| false|   false|1134|     011|  24|            27|      26|     1155457|     1897193|2015|02/10/2018 03:50:...|41.873699424|-87.704705156|(41.873699424, -8...|\n",
            "|10336794|   HY527983|2015-10-26 14:00:00|    006XX N STATE ST|5093|        NON-CRIMINAL|       LOST PASSPORT|               OTHER| false|   false|1832|     018|  42|             8|      26|     1176262|     1904268|2015|02/10/2018 03:50:...|  41.8926701|-87.628106353|(41.8926701, -87....|\n",
            "|10344075|   HY535016|2015-12-12 20:50:00|     025XX W 80TH PL|5114|      NON - CRIMINAL|   FOID - REVOCATION|VEHICLE NON-COMME...| false|   false|0835|     008|  18|            70|      26|     1160683|     1851174|2015|02/10/2018 03:50:...|41.747310961| -87.68678891|(41.747310961, -8...|\n",
            "|10351482|   HY541941|2015-12-13 08:30:00|    100XX W OHARE ST|5093|        NON-CRIMINAL|       LOST PASSPORT|AIRPORT TERMINAL ...| false|   false|1651|     016|  41|            76|      26|     1100658|     1934241|2015|02/10/2018 03:50:...|41.976290414|-87.905227221|(41.976290414, -8...|\n",
            "|10371674|   HZ107512|2016-01-07 17:36:00|051XX S WENTWORTH...|5073|NON-CRIMINAL (SUB...|NOTIFICATION OF C...|JAIL / LOCK-UP FA...| false|    true|0225|     002|   3|            37|      26|     1175826|     1871120|2016|02/10/2018 03:50:...| 41.80171934|-87.630703621|(41.80171934, -87...|\n",
            "|10396040|   HZ131825|2016-01-04 18:00:00|  008XX W ADDISON ST|5114|        NON-CRIMINAL|   FOID - REVOCATION|HOSPITAL BUILDING...| false|   false|1923|     019|  44|             6|      26|     1169826|     1924123|2016|02/10/2018 03:50:...|41.947295978|-87.651162974|(41.947295978, -8...|\n",
            "|10397129|   HZ133234|2016-01-29 15:30:00| 006XX W HARRISON ST|5114|      NON - CRIMINAL|   FOID - REVOCATION|              STREET| false|   false|0124|     001|   2|            28|      26|     1172257|     1897564|2016|02/10/2018 03:50:...|41.874363279|-87.643013039|(41.874363279, -8...|\n",
            "|10401279|   HZ137710|2016-02-02 07:00:00| 068XX S CRANDON AVE|5114|      NON - CRIMINAL|   FOID - REVOCATION|           APARTMENT| false|   false|0331|     003|   5|            43|      26|     1192506|     1859959|2016|02/10/2018 03:50:...|41.770702367|-87.569896036|(41.770702367, -8...|\n",
            "|10405784|   HZ142394|2016-02-06 11:20:00|031XX W FRANKLIN ...|5114|      NON - CRIMINAL|   FOID - REVOCATION|              STREET|  true|   false|1221|     012|  27|            23|      26|     1155334|     1903164|2016|02/10/2018 03:50:...|41.890086914|-87.704996246|(41.890086914, -8...|\n",
            "|10407502|   HZ143549|2016-02-07 11:00:00|    100XX W OHARE ST|5093|        NON-CRIMINAL|       LOST PASSPORT|            AIRCRAFT| false|   false|1651|     016|  41|            76|      26|     1100658|     1934241|2016|02/10/2018 03:50:...|41.976290414|-87.905227221|(41.976290414, -8...|\n",
            "|10410240|   HZ146595|2016-02-10 09:07:00|045XX W CONGRESS ...|5114|      NON - CRIMINAL|   FOID - REVOCATION|           RESIDENCE| false|   false|1131|     011|  24|            26|      26|     1146319|     1897308|2016|02/10/2018 03:50:...|41.874193745|-87.738252825|(41.874193745, -8...|\n",
            "|10412587|   HZ149851|2016-02-13 00:11:00|  031XX S HALSTED ST|5114|      NON - CRIMINAL|   FOID - REVOCATION|POLICE FACILITY/V...|  true|   false|0913|     009|  11|            60|      26|     1171479|     1884120|2016|02/10/2018 03:50:...|41.837489008|-87.646264459|(41.837489008, -8...|\n",
            "|10417135|   HZ155024|2016-02-17 16:02:00|   028XX W CERMAK RD|5114|        NON-CRIMINAL|   FOID - REVOCATION|              STREET|  true|   false|1033|     010|  12|            30|      26|     1157790|     1889263|2016|02/10/2018 03:50:...|41.851891472|-87.696355505|(41.851891472, -8...|\n",
            "|10422489|   HZ160886|2016-02-12 12:00:00|  029XX S NORMAL AVE|5093|        NON-CRIMINAL|       LOST PASSPORT|               OTHER| false|   false|0914|     009|  11|            60|      26|     1173433|     1885534|2016|02/10/2018 03:50:...|41.841326028|-87.639052486|(41.841326028, -8...|\n",
            "|10433951|   HZ171487|2016-03-02 08:30:00|035XX S MICHIGAN AVE|5114|        NON-CRIMINAL|   FOID - REVOCATION|GOVERNMENT BUILDI...| false|   false|0213|     002|   3|            35|      26|     1177772|     1881665|2016|02/10/2018 03:50:...|41.830611847|-87.623247369|(41.830611847, -8...|\n",
            "|10440832|   HZ179381|2016-02-10 00:00:00|029XX N KILPATRIC...|5093|        NON-CRIMINAL|       LOST PASSPORT|           APARTMENT| false|   false|2521|     025|  31|            19|      26|     1144535|     1919217|2016|02/10/2018 03:50:...|41.934348184|-87.744250537|(41.934348184, -8...|\n",
            "|10441625|   HZ177884|2016-03-07 10:00:00|  051XX S MOBILE AVE|5114|        NON-CRIMINAL|   FOID - REVOCATION|           RESIDENCE| false|   false|0811|     008|  23|            56|      26|     1135240|     1869914|2016|02/10/2018 03:50:...|41.799223854|-87.779578905|(41.799223854, -8...|\n",
            "|10446561|   HZ182837|2016-03-11 08:30:00|    0000X S CLARK ST|5114|        NON-CRIMINAL|   FOID - REVOCATION|            SIDEWALK| false|   false|0122|     001|  42|            32|      26|     1175543|     1900205|2016|02/10/2018 03:50:...|41.881537188|-87.630869076|(41.881537188, -8...|\n",
            "|10450540|   HZ187848|2016-03-15 09:30:00|     026XX W 63RD ST|5114|        NON-CRIMINAL|   FOID - REVOCATION|            SIDEWALK| false|   false|0825|     008|  15|            66|      26|     1160040|     1862784|2016|02/10/2018 03:50:...|41.779183752|-87.688826305|(41.779183752, -8...|\n",
            "|10456342|   HZ195839|2016-03-21 17:05:00|   033XX W OGDEN AVE|5114|        NON-CRIMINAL|   FOID - REVOCATION|POLICE FACILITY/V...| false|   false|1024|     010|  24|            29|      26|     1154489|     1891024|2016|02/10/2018 03:50:...|41.856790413|-87.708424071|(41.856790413, -8...|\n",
            "|10463621|   HZ203036|2016-03-25 00:01:00|031XX N LAKE SHOR...|5093|        NON-CRIMINAL|       LOST PASSPORT|           RESIDENCE| false|   false|1934|     019|  44|             6|      26|     1173530|     1920922|2016|02/10/2018 03:50:...|41.938430626|-87.637643663|(41.938430626, -8...|\n",
            "|10463935|   HZ203544|2016-02-27 15:00:00|050XX N SPRINGFIE...|5093|        NON-CRIMINAL|       LOST PASSPORT|               OTHER| false|   false|1712|     017|  39|            14|      26|     1149479|     1933134|2016|02/10/2018 03:50:...|41.972442835|-87.725718601|(41.972442835, -8...|\n",
            "|10467662|   HZ206450|2016-01-13 12:00:00|022XX S PRINCETON...|5093|        NON-CRIMINAL|       LOST PASSPORT|              STREET| false|   false|0914|     009|  25|            34|      26|     1174562|     1889549|2016|02/10/2018 03:50:...| 41.85231838|-87.634789632|(41.85231838, -87...|\n",
            "|10476440|   HZ215497|2016-03-31 18:00:00|  049XX S PULASKI RD|5093|        NON-CRIMINAL|       LOST PASSPORT|               ALLEY| false|   false|0821|     008|  14|            57|      26|     1150535|     1871472|2016|02/10/2018 03:50:...|41.803215158|-87.723447017|(41.803215158, -8...|\n",
            "|10499415|   HZ240662|2016-04-26 06:20:00|061XX S FRANCISCO...|5114|        NON-CRIMINAL|   FOID - REVOCATION|           RESIDENCE| false|   false|0823|     008|  15|            66|      26|     1158100|     1863778|2016|02/10/2018 03:50:...|41.781951111|-87.695911577|(41.781951111, -8...|\n",
            "|10501094|   HZ242219|2016-04-05 21:00:00|0000X E CONGRESS ...|5093|        NON-CRIMINAL|       LOST PASSPORT|         HOTEL/MOTEL| false|   false|0113|     001|   2|            32|      26|     1176730|     1898080|2016|02/10/2018 03:50:...|41.875679322| -87.62657476|(41.875679322, -8...|\n",
            "|10511325|   HZ252499|2016-05-01 22:00:00| 055XX N LINCOLN AVE|5093|        NON-CRIMINAL|       LOST PASSPORT|       BAR OR TAVERN| false|   false|2011|     020|  40|             4|      26|     1158220|     1936737|2016|02/10/2018 03:50:...| 41.98215502|-87.693477287|(41.98215502, -87...|\n",
            "|10576557|   HZ325106|2016-06-23 12:15:00|   004XX W NORTH AVE|5114|        NON-CRIMINAL|   FOID - REVOCATION|           APARTMENT| false|   false|1821|     018|  43|             8|      26|     1172925|     1910954|2016|02/10/2018 03:50:...|41.911091456|-87.640163298|(41.911091456, -8...|\n",
            "|10577319|   HZ326185|2016-06-27 20:12:00|     012XX E 71ST PL|0585|        NON-CRIMINAL|NOTIFICATION OF S...|           APARTMENT|  true|   false|0324|     003|   5|            69|      26|     1185644|     1857852|2016|02/10/2018 03:50:...|41.765084959|-87.595115407|(41.765084959, -8...|\n",
            "|10592395|   HZ340883|2016-06-25 09:00:00|  059XX N LEADER AVE|5093|        NON-CRIMINAL|       LOST PASSPORT|               OTHER| false|   false|1621|     016|  45|            12|      26|     1141170|     1939151|2016|02/10/2018 03:50:...|  41.9891116|-87.756123562|(41.9891116, -87....|\n",
            "|10604826|   HZ356522|2016-07-07 09:00:00|     035XX S WOOD ST|5093|        NON-CRIMINAL|       LOST PASSPORT|           RESIDENCE| false|   false|0912|     009|  11|            59|      26|     1164929|     1881227|2016|02/10/2018 03:50:...|41.829691573|-87.670381153|(41.829691573, -8...|\n",
            "|10625887|   HZ378355|2016-08-02 09:00:00|  054XX N ELSTON AVE|5093|        NON-CRIMINAL|       LOST PASSPORT|GOVERNMENT BUILDI...| false|   false|1621|     016|  45|            11|      26|     1140460|     1935678|2016|02/10/2018 03:50:...| 41.97959452|-87.758820763|(41.97959452, -87...|\n",
            "|10638712|   HZ390017|2016-08-12 13:30:00|    003XX W HURON ST|5093|        NON-CRIMINAL|       LOST PASSPORT|               OTHER| false|   false|1831|     018|  42|             8|      26|     1173958|     1905011|2016|02/10/2018 03:50:...|41.894760587| -87.63654578|(41.894760587, -8...|\n",
            "|10643356|   HZ394709|2016-08-15 11:00:00| 019XX N KEDVALE AVE|5093|        NON-CRIMINAL|       LOST PASSPORT|CHURCH/SYNAGOGUE/...| false|   false|2534|     025|  30|            20|      26|     1148410|     1912535|2016|02/10/2018 03:50:...|41.915938216|-87.730182538|(41.915938216, -8...|\n",
            "|10646361|   HZ397306|2016-08-18 12:15:00|     010XX W 14TH PL|5114|        NON-CRIMINAL|   FOID - REVOCATION|           APARTMENT| false|   false|1232|     012|  25|            28|      26|     1169625|     1893228|2016|02/10/2018 03:50:...| 41.86252264|-87.652802708|(41.86252264, -87...|\n",
            "+--------+-----------+-------------------+--------------------+----+--------------------+--------------------+--------------------+------+--------+----+--------+----+--------------+--------+------------+------------+----+--------------------+------------+-------------+--------------------+\n",
            "only showing top 50 rows\n",
            "\n"
          ],
          "name": "stdout"
        }
      ]
    },
    {
      "cell_type": "code",
      "metadata": {
        "colab": {
          "base_uri": "https://localhost:8080/"
        },
        "id": "uSKEL7rExaEr",
        "outputId": "4437f771-5c01-4d3f-de70-7405b442a6ed"
      },
      "source": [
        "main_nc.groupBy(col('Description')).count().orderBy('count', ascending = False).show(truncate = False)"
      ],
      "execution_count": 62,
      "outputs": [
        {
          "output_type": "stream",
          "text": [
            "+-------------------------------------------+-----+\n",
            "|Description                                |count|\n",
            "+-------------------------------------------+-----+\n",
            "|LOST PASSPORT                              |107  |\n",
            "|FOID - REVOCATION                          |75   |\n",
            "|NOTIFICATION OF CIVIL NO CONTACT ORDER     |9    |\n",
            "|NOTIFICATION OF STALKING - NO CONTACT ORDER|8    |\n",
            "|CONCEALED CARRY LICENSE REVOCATION         |4    |\n",
            "|FOUND PASSPORT                             |4    |\n",
            "|GUN OFFENDER NOTIFICATION-NO CONTACT       |3    |\n",
            "+-------------------------------------------+-----+\n",
            "\n"
          ],
          "name": "stdout"
        }
      ]
    },
    {
      "cell_type": "code",
      "metadata": {
        "id": "gLjmCWfrx1x5"
      },
      "source": [
        "from pyspark.sql.functions import dayofweek,date_format"
      ],
      "execution_count": 63,
      "outputs": []
    },
    {
      "cell_type": "code",
      "metadata": {
        "colab": {
          "base_uri": "https://localhost:8080/"
        },
        "id": "gib_WDxAyM2_",
        "outputId": "be30f6ab-b326-486f-dd8e-6847d991fadc"
      },
      "source": [
        "help(dayofweek)"
      ],
      "execution_count": 64,
      "outputs": [
        {
          "output_type": "stream",
          "text": [
            "Help on function dayofweek in module pyspark.sql.functions:\n",
            "\n",
            "dayofweek(col)\n",
            "    Extract the day of the week of a given date as integer.\n",
            "    \n",
            "    >>> df = spark.createDataFrame([('2015-04-08',)], ['dt'])\n",
            "    >>> df.select(dayofweek('dt').alias('day')).collect()\n",
            "    [Row(day=4)]\n",
            "    \n",
            "    .. versionadded:: 2.3\n",
            "\n"
          ],
          "name": "stdout"
        }
      ]
    },
    {
      "cell_type": "code",
      "metadata": {
        "colab": {
          "base_uri": "https://localhost:8080/"
        },
        "id": "HsLpmwrmyOMy",
        "outputId": "839d2daf-58b7-426f-f1cb-efdd86a19380"
      },
      "source": [
        "main_rc.select(col('Date'), dayofweek(col('Date'))).show(4)"
      ],
      "execution_count": 65,
      "outputs": [
        {
          "output_type": "stream",
          "text": [
            "+-------------------+---------------+\n",
            "|               Date|dayofweek(Date)|\n",
            "+-------------------+---------------+\n",
            "|2015-09-05 13:30:00|              7|\n",
            "|2015-09-04 11:30:00|              6|\n",
            "|2018-09-01 00:01:00|              7|\n",
            "|2015-09-05 12:45:00|              7|\n",
            "+-------------------+---------------+\n",
            "only showing top 4 rows\n",
            "\n"
          ],
          "name": "stdout"
        }
      ]
    },
    {
      "cell_type": "code",
      "metadata": {
        "colab": {
          "base_uri": "https://localhost:8080/"
        },
        "id": "A7b8y67gyf-_",
        "outputId": "a281a363-e939-4468-b15f-a76ef36c7e7c"
      },
      "source": [
        "help(date_format)"
      ],
      "execution_count": 66,
      "outputs": [
        {
          "output_type": "stream",
          "text": [
            "Help on function date_format in module pyspark.sql.functions:\n",
            "\n",
            "date_format(date, format)\n",
            "    Converts a date/timestamp/string to a value of string in the format specified by the date\n",
            "    format given by the second argument.\n",
            "    \n",
            "    A pattern could be for instance `dd.MM.yyyy` and could return a string like '18.03.1993'. All\n",
            "    pattern letters of the Java class `java.text.SimpleDateFormat` can be used.\n",
            "    \n",
            "    .. note:: Use when ever possible specialized functions like `year`. These benefit from a\n",
            "        specialized implementation.\n",
            "    \n",
            "    >>> df = spark.createDataFrame([('2015-04-08',)], ['dt'])\n",
            "    >>> df.select(date_format('dt', 'MM/dd/yyy').alias('date')).collect()\n",
            "    [Row(date='04/08/2015')]\n",
            "    \n",
            "    .. versionadded:: 1.5\n",
            "\n"
          ],
          "name": "stdout"
        }
      ]
    },
    {
      "cell_type": "code",
      "metadata": {
        "colab": {
          "base_uri": "https://localhost:8080/"
        },
        "id": "1yy8oeltytiL",
        "outputId": "22e6da7f-6930-4f79-b5e5-24a28ec4a49d"
      },
      "source": [
        "main_rc.select(col('Date'), dayofweek(col('Date')), date_format(col('Date'), 'E')).show(4)"
      ],
      "execution_count": 67,
      "outputs": [
        {
          "output_type": "stream",
          "text": [
            "+-------------------+---------------+--------------------+\n",
            "|               Date|dayofweek(Date)|date_format(Date, E)|\n",
            "+-------------------+---------------+--------------------+\n",
            "|2015-09-05 13:30:00|              7|                 Sat|\n",
            "|2015-09-04 11:30:00|              6|                 Fri|\n",
            "|2018-09-01 00:01:00|              7|                 Sat|\n",
            "|2015-09-05 12:45:00|              7|                 Sat|\n",
            "+-------------------+---------------+--------------------+\n",
            "only showing top 4 rows\n",
            "\n"
          ],
          "name": "stdout"
        }
      ]
    },
    {
      "cell_type": "code",
      "metadata": {
        "colab": {
          "base_uri": "https://localhost:8080/"
        },
        "id": "i5T_XSjcy3AG",
        "outputId": "319f8993-dbd8-42db-e8f8-0b29abe471a9"
      },
      "source": [
        "main_rc.groupBy(date_format(col('Date'), 'E')).count().orderBy('count', ascending = False).show()"
      ],
      "execution_count": 68,
      "outputs": [
        {
          "output_type": "stream",
          "text": [
            "+--------------------+-------+\n",
            "|date_format(Date, E)|  count|\n",
            "+--------------------+-------+\n",
            "|                 Fri|1017109|\n",
            "|                 Wed| 974022|\n",
            "|                 Tue| 968168|\n",
            "|                 Sat| 965303|\n",
            "|                 Thu| 964701|\n",
            "|                 Mon| 952866|\n",
            "|                 Sun| 912085|\n",
            "+--------------------+-------+\n",
            "\n"
          ],
          "name": "stdout"
        }
      ]
    },
    {
      "cell_type": "code",
      "metadata": {
        "colab": {
          "base_uri": "https://localhost:8080/"
        },
        "id": "PVV6dKctzNhD",
        "outputId": "7157e78d-d4f8-47ce-dad8-f509a2938edc"
      },
      "source": [
        "main_rc.groupBy(date_format(col('Date'), 'E')).count().collect()"
      ],
      "execution_count": 69,
      "outputs": [
        {
          "output_type": "execute_result",
          "data": {
            "text/plain": [
              "[Row(date_format(Date, E)='Sun', count=912085),\n",
              " Row(date_format(Date, E)='Mon', count=952866),\n",
              " Row(date_format(Date, E)='Thu', count=964701),\n",
              " Row(date_format(Date, E)='Sat', count=965303),\n",
              " Row(date_format(Date, E)='Wed', count=974022),\n",
              " Row(date_format(Date, E)='Fri', count=1017109),\n",
              " Row(date_format(Date, E)='Tue', count=968168)]"
            ]
          },
          "metadata": {
            "tags": []
          },
          "execution_count": 69
        }
      ]
    },
    {
      "cell_type": "code",
      "metadata": {
        "colab": {
          "base_uri": "https://localhost:8080/"
        },
        "id": "KI1u2OqLzveX",
        "outputId": "c4060520-e3d7-4de4-eed0-1ff69e2d0427"
      },
      "source": [
        "dow= [x[0] for x in main_rc.groupBy(date_format(col('Date'), 'E')).count().collect()]\n",
        "dow"
      ],
      "execution_count": 70,
      "outputs": [
        {
          "output_type": "execute_result",
          "data": {
            "text/plain": [
              "['Sun', 'Mon', 'Thu', 'Sat', 'Wed', 'Fri', 'Tue']"
            ]
          },
          "metadata": {
            "tags": []
          },
          "execution_count": 70
        }
      ]
    },
    {
      "cell_type": "code",
      "metadata": {
        "colab": {
          "base_uri": "https://localhost:8080/"
        },
        "id": "QK9dCfRk0Cmr",
        "outputId": "9c8a3893-863c-473d-9a6b-9716b0359ec8"
      },
      "source": [
        "cnt= [x[1] for x in main_rc.groupBy(date_format(col('Date'), 'E')).count().collect()]\n",
        "cnt"
      ],
      "execution_count": 71,
      "outputs": [
        {
          "output_type": "execute_result",
          "data": {
            "text/plain": [
              "[912085, 952866, 964701, 965303, 974022, 1017109, 968168]"
            ]
          },
          "metadata": {
            "tags": []
          },
          "execution_count": 71
        }
      ]
    },
    {
      "cell_type": "code",
      "metadata": {
        "id": "ugQ8jo9G0Jls"
      },
      "source": [
        "import pandas as pd\n",
        "import matplotlib.pyplot as plt"
      ],
      "execution_count": 72,
      "outputs": []
    },
    {
      "cell_type": "code",
      "metadata": {
        "colab": {
          "base_uri": "https://localhost:8080/",
          "height": 266
        },
        "id": "x5_ryau80WJZ",
        "outputId": "17c6e74d-279b-4009-b333-3ad87a3f2a2c"
      },
      "source": [
        "cp = pd.DataFrame({'Day_of_week' : dow, 'Count': cnt})\n",
        "cp.head(7)"
      ],
      "execution_count": 73,
      "outputs": [
        {
          "output_type": "execute_result",
          "data": {
            "text/html": [
              "<div>\n",
              "<style scoped>\n",
              "    .dataframe tbody tr th:only-of-type {\n",
              "        vertical-align: middle;\n",
              "    }\n",
              "\n",
              "    .dataframe tbody tr th {\n",
              "        vertical-align: top;\n",
              "    }\n",
              "\n",
              "    .dataframe thead th {\n",
              "        text-align: right;\n",
              "    }\n",
              "</style>\n",
              "<table border=\"1\" class=\"dataframe\">\n",
              "  <thead>\n",
              "    <tr style=\"text-align: right;\">\n",
              "      <th></th>\n",
              "      <th>Day_of_week</th>\n",
              "      <th>Count</th>\n",
              "    </tr>\n",
              "  </thead>\n",
              "  <tbody>\n",
              "    <tr>\n",
              "      <th>0</th>\n",
              "      <td>Sun</td>\n",
              "      <td>912085</td>\n",
              "    </tr>\n",
              "    <tr>\n",
              "      <th>1</th>\n",
              "      <td>Mon</td>\n",
              "      <td>952866</td>\n",
              "    </tr>\n",
              "    <tr>\n",
              "      <th>2</th>\n",
              "      <td>Thu</td>\n",
              "      <td>964701</td>\n",
              "    </tr>\n",
              "    <tr>\n",
              "      <th>3</th>\n",
              "      <td>Sat</td>\n",
              "      <td>965303</td>\n",
              "    </tr>\n",
              "    <tr>\n",
              "      <th>4</th>\n",
              "      <td>Wed</td>\n",
              "      <td>974022</td>\n",
              "    </tr>\n",
              "    <tr>\n",
              "      <th>5</th>\n",
              "      <td>Fri</td>\n",
              "      <td>1017109</td>\n",
              "    </tr>\n",
              "    <tr>\n",
              "      <th>6</th>\n",
              "      <td>Tue</td>\n",
              "      <td>968168</td>\n",
              "    </tr>\n",
              "  </tbody>\n",
              "</table>\n",
              "</div>"
            ],
            "text/plain": [
              "  Day_of_week    Count\n",
              "0         Sun   912085\n",
              "1         Mon   952866\n",
              "2         Thu   964701\n",
              "3         Sat   965303\n",
              "4         Wed   974022\n",
              "5         Fri  1017109\n",
              "6         Tue   968168"
            ]
          },
          "metadata": {
            "tags": []
          },
          "execution_count": 73
        }
      ]
    },
    {
      "cell_type": "code",
      "metadata": {
        "colab": {
          "base_uri": "https://localhost:8080/",
          "height": 307
        },
        "id": "msFx0wkn0seO",
        "outputId": "2635865f-29b1-462b-e62f-c65d34a25579"
      },
      "source": [
        "cp.sort_values('Count', ascending= False).plot(kind = 'line', x = 'Day_of_week', y= 'Count', color= 'aqua')\n",
        "plt.xlabel('Day of the Week')\n",
        "plt.ylabel('Count')"
      ],
      "execution_count": 79,
      "outputs": [
        {
          "output_type": "execute_result",
          "data": {
            "text/plain": [
              "Text(0, 0.5, 'Count')"
            ]
          },
          "metadata": {
            "tags": []
          },
          "execution_count": 79
        },
        {
          "output_type": "display_data",
          "data": {
            "image/png": "[encoded data removed]",
            "text/plain": [
              "<Figure size 432x288 with 1 Axes>"
            ]
          },
          "metadata": {
            "tags": [],
            "needs_background": "light"
          }
        }
      ]
    },
    {
      "cell_type": "markdown",
      "metadata": {
        "id": "1aO4bnCcB6x1"
      },
      "source": [
        "# Learning RDD"
      ]
    },
    {
      "cell_type": "code",
      "metadata": {
        "colab": {
          "base_uri": "https://localhost:8080/"
        },
        "id": "o-NWJXMd0wY0",
        "outputId": "a326a318-e634-4007-8c91-e0927efe2127"
      },
      "source": [
        "ps.show()"
      ],
      "execution_count": 81,
      "outputs": [
        {
          "output_type": "stream",
          "text": [
            "+--------------------+-----------------+--------------------+-------+-----+-----+--------------------+------------+------------+------------+------------+------------+-----------+------------+--------------------+---------------+\n",
            "|            DISTRICT|    DISTRICT NAME|             ADDRESS|   CITY|STATE|  ZIP|             WEBSITE|       PHONE|         FAX|         TTY|X COORDINATE|Y COORDINATE|   LATITUDE|   LONGITUDE|            LOCATION|format_district|\n",
            "+--------------------+-----------------+--------------------+-------+-----+-----+--------------------+------------+------------+------------+------------+------------+-----------+------------+--------------------+---------------+\n",
            "|        Headquarters|     Headquarters| 3510 S Michigan Ave|Chicago|   IL|60653|http://home.chica...|        null|        null|        null| 1177731.401| 1881697.404|41.83070169|-87.62339535|(41.8307016873, -...|            Hea|\n",
            "|                  18|       Near North|  1160 N Larrabee St|Chicago|   IL|60610|http://home.chica...|312-742-5870|312-742-5771|312-742-5773| 1172080.029| 1908086.527|41.90324165|-87.64335214|(41.9032416531, -...|            018|\n",
            "|                  19|        Town Hall|    850 W Addison St|Chicago|   IL|60613|http://home.chica...|312-744-8320|312-744-4481|312-744-8011| 1169730.744| 1924160.317|41.94740046|-87.65151202|(41.9474004564, -...|            019|\n",
            "|                  20|          Lincoln|  5400 N Lincoln Ave|Chicago|   IL|60625|http://home.chica...|312-742-8714|312-742-8803|312-742-8841| 1158399.146| 1935788.826|41.97954951|-87.69284451|(41.9795495131, -...|            020|\n",
            "|                  22|      Morgan Park| 1900 W Monterey Ave|Chicago|   IL|60643|http://home.chica...|312-745-0710|312-745-0814|312-745-0569| 1165825.476| 1830851.333|41.69143478|-87.66852039|(41.6914347795, -...|            022|\n",
            "|                  24|      Rogers Park|     6464 N Clark St|Chicago|   IL|60626|http://home.chica...|312-744-5907|312-744-6928|312-744-7603| 1164193.588| 1943199.401|41.99976348|-87.67132429|(41.9997634842, -...|            024|\n",
            "|                  25|    Grand Central|    5555 W Grand Ave|Chicago|   IL|60639|http://home.chica...|312-746-8605|312-746-4353|312-746-8383| 1138770.871| 1913442.439|41.91860889|-87.76557448|(41.9186088912, -...|            025|\n",
            "|                   1|          Central|     1718 S State St|Chicago|   IL|60616|http://home.chica...|312-745-4290|312-745-3694|312-745-3693| 1176569.052| 1891771.704|41.85837259|-87.62735617|(41.8583725929, -...|            001|\n",
            "|                   2|        Wentworth|5101 S Wentworth Ave|Chicago|   IL|60609|http://home.chica...|312-747-8366|312-747-5396|312-747-6656| 1175864.837| 1871153.753|41.80181109|-87.63056018|(41.8018110912, -...|            002|\n",
            "|                   3|   Grand Crossing|7040 S Cottage Gr...|Chicago|   IL|60637|http://home.chica...|312-747-8201|312-747-5479|312-747-9168| 1182739.183| 1858317.732|41.76643089|-87.60574786|(41.7664308925, -...|            003|\n",
            "|                   4|    South Chicago|     2255 E 103rd St|Chicago|   IL|60617|http://home.chica...|312-747-7581|312-747-5276|312-747-9169| 1193131.299| 1837090.265|41.70793329|-87.56834912|(41.7079332906, -...|            004|\n",
            "|                   5|          Calumet|      727 E 111th St|Chicago|   IL|60628|http://home.chica...|312-747-8210|312-747-5935|312-747-9170| 1183305.427| 1831462.313|41.69272336|-87.60450587|(41.6927233639, -...|            005|\n",
            "|                   6|          Gresham|   7808 S Halsted St|Chicago|   IL|60620|http://home.chica...|312-745-3617|312-745-3649|312-745-3639| 1172283.013| 1853022.646|41.75213684|-87.64422891|(41.7521368378, -...|            006|\n",
            "|                   7|        Englewood|      1438 W 63rd St|Chicago|   IL|60636|http://home.chica...|312-747-8223|312-747-6558|312-747-6652| 1167659.235| 1863005.522|41.77963154|-87.66088702|(41.7796315359, -...|            007|\n",
            "|                   8|     Chicago Lawn|      3420 W 63rd St|Chicago|   IL|60629|http://home.chica...|312-747-8730|312-747-8545|312-747-8116| 1154575.242| 1862672.049|41.77898719|-87.70886382|(41.778987189, -8...|            008|\n",
            "|                   9|          Deering|   3120 S Halsted St|Chicago|   IL|60608|http://home.chica...|312-747-8227|312-747-5329|312-747-9172|  1171440.24| 1884085.224|41.83739443|-87.64640771|(41.8373944311, -...|            009|\n",
            "|                  10|            Ogden|    3315 W Ogden Ave|Chicago|   IL|60623|http://home.chica...|312-747-7511|312-747-7429|312-747-7471| 1154500.753| 1890985.501|41.85668453|-87.70838196|(41.8566845327, -...|            010|\n",
            "|                  11|         Harrison|  3151 W Harrison St|Chicago|   IL|60612|http://home.chica...|312-746-8386|312-746-4281|312-746-5151| 1155244.069| 1897148.755|41.87358229|-87.70548813|(41.8735822883, -...|            011|\n",
            "|                  12|        Near West|1412 S Blue Islan...|   null| null| null|                null|        null|        null|        null|        null|        null|       null|        null|                null|            012|\n",
            "|\",Chicago,IL,6060...| -87.6569725149)\"|                null|   null| null| null|                null|        null|        null|        null|        null|        null|       null|        null|                null|            \",C|\n",
            "+--------------------+-----------------+--------------------+-------+-----+-----+--------------------+------------+------------+------------+------------+------------+-----------+------------+--------------------+---------------+\n",
            "only showing top 20 rows\n",
            "\n"
          ],
          "name": "stdout"
        }
      ]
    },
    {
      "cell_type": "code",
      "metadata": {
        "colab": {
          "base_uri": "https://localhost:8080/",
          "height": 37
        },
        "id": "RC0EN9gxBxTb",
        "outputId": "6af32d93-24f7-4656-bbdb-ee6589148c6e"
      },
      "source": [
        "psrdd = sc.textFile('/content/drive/MyDrive/Data/Police_Stations.csv')\n",
        "psrdd.first()"
      ],
      "execution_count": 84,
      "outputs": [
        {
          "output_type": "execute_result",
          "data": {
            "application/vnd.google.colaboratory.intrinsic+json": {
              "type": "string"
            },
            "text/plain": [
              "'DISTRICT,DISTRICT NAME,ADDRESS,CITY,STATE,ZIP,WEBSITE,PHONE,FAX,TTY,X COORDINATE,Y COORDINATE,LATITUDE,LONGITUDE,LOCATION'"
            ]
          },
          "metadata": {
            "tags": []
          },
          "execution_count": 84
        }
      ]
    },
    {
      "cell_type": "code",
      "metadata": {
        "id": "EraFkiRBCJH-"
      },
      "source": [
        "ps_header = psrdd.first()"
      ],
      "execution_count": 85,
      "outputs": []
    },
    {
      "cell_type": "code",
      "metadata": {
        "colab": {
          "base_uri": "https://localhost:8080/",
          "height": 54
        },
        "id": "lzYPNxcFCX9i",
        "outputId": "1db5b5e5-a8d9-4c40-fde0-1e96b319d453"
      },
      "source": [
        "ps_rest = psrdd.filter(lambda line : line != ps_header)\n",
        "ps_rest.first()"
      ],
      "execution_count": 88,
      "outputs": [
        {
          "output_type": "execute_result",
          "data": {
            "application/vnd.google.colaboratory.intrinsic+json": {
              "type": "string"
            },
            "text/plain": [
              "'Headquarters,Headquarters,3510 S Michigan Ave,Chicago,IL,60653,http://home.chicagopolice.org,,,,1177731.401,1881697.404,41.83070169,-87.62339535,\"(41.8307016873, -87.6233953459)\"'"
            ]
          },
          "metadata": {
            "tags": []
          },
          "execution_count": 88
        }
      ]
    },
    {
      "cell_type": "code",
      "metadata": {
        "colab": {
          "base_uri": "https://localhost:8080/"
        },
        "id": "2WTpzOoGCfon",
        "outputId": "6205d882-a54c-4e3e-8958-9527aaf6daff"
      },
      "source": [
        "ps_rest.map(lambda line: line.split(',')).collect()"
      ],
      "execution_count": 90,
      "outputs": [
        {
          "output_type": "execute_result",
          "data": {
            "text/plain": [
              "[['Headquarters',\n",
              "  'Headquarters',\n",
              "  '3510 S Michigan Ave',\n",
              "  'Chicago',\n",
              "  'IL',\n",
              "  '60653',\n",
              "  'http://home.chicagopolice.org',\n",
              "  '',\n",
              "  '',\n",
              "  '',\n",
              "  '1177731.401',\n",
              "  '1881697.404',\n",
              "  '41.83070169',\n",
              "  '-87.62339535',\n",
              "  '\"(41.8307016873',\n",
              "  ' -87.6233953459)\"'],\n",
              " ['18',\n",
              "  'Near North',\n",
              "  '1160 N Larrabee St',\n",
              "  'Chicago',\n",
              "  'IL',\n",
              "  '60610',\n",
              "  'http://home.chicagopolice.org/community/districts/18th-district-near-north/',\n",
              "  '312-742-5870',\n",
              "  '312-742-5771',\n",
              "  '312-742-5773',\n",
              "  '1172080.029',\n",
              "  '1908086.527',\n",
              "  '41.90324165',\n",
              "  '-87.64335214',\n",
              "  '\"(41.9032416531',\n",
              "  ' -87.6433521393)\"'],\n",
              " ['19',\n",
              "  'Town Hall',\n",
              "  '850 W Addison St',\n",
              "  'Chicago',\n",
              "  'IL',\n",
              "  '60613',\n",
              "  'http://home.chicagopolice.org/community/districts/19th-district-town-hall/',\n",
              "  '312-744-8320',\n",
              "  '312-744-4481',\n",
              "  '312-744-8011',\n",
              "  '1169730.744',\n",
              "  '1924160.317',\n",
              "  '41.94740046',\n",
              "  '-87.65151202',\n",
              "  '\"(41.9474004564',\n",
              "  ' -87.651512018)\"'],\n",
              " ['20',\n",
              "  'Lincoln',\n",
              "  '5400 N Lincoln Ave',\n",
              "  'Chicago',\n",
              "  'IL',\n",
              "  '60625',\n",
              "  'http://home.chicagopolice.org/community/districts/20th-district-lincoln/',\n",
              "  '312-742-8714',\n",
              "  '312-742-8803',\n",
              "  '312-742-8841',\n",
              "  '1158399.146',\n",
              "  '1935788.826',\n",
              "  '41.97954951',\n",
              "  '-87.69284451',\n",
              "  '\"(41.9795495131',\n",
              "  ' -87.6928445094)\"'],\n",
              " ['22',\n",
              "  'Morgan Park',\n",
              "  '1900 W Monterey Ave',\n",
              "  'Chicago',\n",
              "  'IL',\n",
              "  '60643',\n",
              "  'http://home.chicagopolice.org/community/districts/22nd-district-morgan-park/',\n",
              "  '312-745-0710',\n",
              "  '312-745-0814',\n",
              "  '312-745-0569',\n",
              "  '1165825.476',\n",
              "  '1830851.333',\n",
              "  '41.69143478',\n",
              "  '-87.66852039',\n",
              "  '\"(41.6914347795',\n",
              "  ' -87.6685203937)\"'],\n",
              " ['24',\n",
              "  'Rogers Park',\n",
              "  '6464 N Clark St',\n",
              "  'Chicago',\n",
              "  'IL',\n",
              "  '60626',\n",
              "  'http://home.chicagopolice.org/community/districts/24th-district-rogers-park/',\n",
              "  '312-744-5907',\n",
              "  '312-744-6928',\n",
              "  '312-744-7603',\n",
              "  '1164193.588',\n",
              "  '1943199.401',\n",
              "  '41.99976348',\n",
              "  '-87.67132429',\n",
              "  '\"(41.9997634842',\n",
              "  ' -87.6713242922)\"'],\n",
              " ['25',\n",
              "  'Grand Central',\n",
              "  '5555 W Grand Ave',\n",
              "  'Chicago',\n",
              "  'IL',\n",
              "  '60639',\n",
              "  'http://home.chicagopolice.org/community/districts/25th-district-grand-central/',\n",
              "  '312-746-8605',\n",
              "  '312-746-4353',\n",
              "  '312-746-8383',\n",
              "  '1138770.871',\n",
              "  '1913442.439',\n",
              "  '41.91860889',\n",
              "  '-87.76557448',\n",
              "  '\"(41.9186088912',\n",
              "  ' -87.765574479)\"'],\n",
              " ['1',\n",
              "  'Central',\n",
              "  '1718 S State St',\n",
              "  'Chicago',\n",
              "  'IL',\n",
              "  '60616',\n",
              "  'http://home.chicagopolice.org/community/districts/1st-district-central/',\n",
              "  '312-745-4290',\n",
              "  '312-745-3694',\n",
              "  '312-745-3693',\n",
              "  '1176569.052',\n",
              "  '1891771.704',\n",
              "  '41.85837259',\n",
              "  '-87.62735617',\n",
              "  '\"(41.8583725929',\n",
              "  ' -87.627356171)\"'],\n",
              " ['2',\n",
              "  'Wentworth',\n",
              "  '5101 S Wentworth Ave',\n",
              "  'Chicago',\n",
              "  'IL',\n",
              "  '60609',\n",
              "  'http://home.chicagopolice.org/community/districts/2nd-district-wentworth/',\n",
              "  '312-747-8366',\n",
              "  '312-747-5396',\n",
              "  '312-747-6656',\n",
              "  '1175864.837',\n",
              "  '1871153.753',\n",
              "  '41.80181109',\n",
              "  '-87.63056018',\n",
              "  '\"(41.8018110912',\n",
              "  ' -87.6305601801)\"'],\n",
              " ['3',\n",
              "  'Grand Crossing',\n",
              "  '7040 S Cottage Grove Ave',\n",
              "  'Chicago',\n",
              "  'IL',\n",
              "  '60637',\n",
              "  'http://home.chicagopolice.org/community/districts/3rd-district-grand-crossing/',\n",
              "  '312-747-8201',\n",
              "  '312-747-5479',\n",
              "  '312-747-9168',\n",
              "  '1182739.183',\n",
              "  '1858317.732',\n",
              "  '41.76643089',\n",
              "  '-87.60574786',\n",
              "  '\"(41.7664308925',\n",
              "  ' -87.6057478606)\"'],\n",
              " ['4',\n",
              "  'South Chicago',\n",
              "  '2255 E 103rd St',\n",
              "  'Chicago',\n",
              "  'IL',\n",
              "  '60617',\n",
              "  'http://home.chicagopolice.org/community/districts/4th-district-south-chicago/',\n",
              "  '312-747-7581',\n",
              "  '312-747-5276',\n",
              "  '312-747-9169',\n",
              "  '1193131.299',\n",
              "  '1837090.265',\n",
              "  '41.70793329',\n",
              "  '-87.56834912',\n",
              "  '\"(41.7079332906',\n",
              "  ' -87.5683491228)\"'],\n",
              " ['5',\n",
              "  'Calumet',\n",
              "  '727 E 111th St',\n",
              "  'Chicago',\n",
              "  'IL',\n",
              "  '60628',\n",
              "  'http://home.chicagopolice.org/community/districts/5th-district-calumet/',\n",
              "  '312-747-8210',\n",
              "  '312-747-5935',\n",
              "  '312-747-9170',\n",
              "  '1183305.427',\n",
              "  '1831462.313',\n",
              "  '41.69272336',\n",
              "  '-87.60450587',\n",
              "  '\"(41.6927233639',\n",
              "  ' -87.6045058667)\"'],\n",
              " ['6',\n",
              "  'Gresham',\n",
              "  '7808 S Halsted St',\n",
              "  'Chicago',\n",
              "  'IL',\n",
              "  '60620',\n",
              "  'http://home.chicagopolice.org/community/districts/6th-district-gresham/',\n",
              "  '312-745-3617',\n",
              "  '312-745-3649',\n",
              "  '312-745-3639',\n",
              "  '1172283.013',\n",
              "  '1853022.646',\n",
              "  '41.75213684',\n",
              "  '-87.64422891',\n",
              "  '\"(41.7521368378',\n",
              "  ' -87.6442289066)\"'],\n",
              " ['7',\n",
              "  'Englewood',\n",
              "  '1438 W 63rd St',\n",
              "  'Chicago',\n",
              "  'IL',\n",
              "  '60636',\n",
              "  'http://home.chicagopolice.org/community/districts/7th-district-englewood/',\n",
              "  '312-747-8223',\n",
              "  '312-747-6558',\n",
              "  '312-747-6652',\n",
              "  '1167659.235',\n",
              "  '1863005.522',\n",
              "  '41.77963154',\n",
              "  '-87.66088702',\n",
              "  '\"(41.7796315359',\n",
              "  ' -87.6608870173)\"'],\n",
              " ['8',\n",
              "  'Chicago Lawn',\n",
              "  '3420 W 63rd St',\n",
              "  'Chicago',\n",
              "  'IL',\n",
              "  '60629',\n",
              "  'http://home.chicagopolice.org/community/districts/8th-district-chicago-lawn/',\n",
              "  '312-747-8730',\n",
              "  '312-747-8545',\n",
              "  '312-747-8116',\n",
              "  '1154575.242',\n",
              "  '1862672.049',\n",
              "  '41.77898719',\n",
              "  '-87.70886382',\n",
              "  '\"(41.778987189',\n",
              "  ' -87.7088638153)\"'],\n",
              " ['9',\n",
              "  'Deering',\n",
              "  '3120 S Halsted St',\n",
              "  'Chicago',\n",
              "  'IL',\n",
              "  '60608',\n",
              "  'http://home.chicagopolice.org/community/districts/9th-district-deering/',\n",
              "  '312-747-8227',\n",
              "  '312-747-5329',\n",
              "  '312-747-9172',\n",
              "  '1171440.24',\n",
              "  '1884085.224',\n",
              "  '41.83739443',\n",
              "  '-87.64640771',\n",
              "  '\"(41.8373944311',\n",
              "  ' -87.6464077068)\"'],\n",
              " ['10',\n",
              "  'Ogden',\n",
              "  '3315 W Ogden Ave',\n",
              "  'Chicago',\n",
              "  'IL',\n",
              "  '60623',\n",
              "  'http://home.chicagopolice.org/community/districts/10th-district-ogden/',\n",
              "  '312-747-7511',\n",
              "  '312-747-7429',\n",
              "  '312-747-7471',\n",
              "  '1154500.753',\n",
              "  '1890985.501',\n",
              "  '41.85668453',\n",
              "  '-87.70838196',\n",
              "  '\"(41.8566845327',\n",
              "  ' -87.708381958)\"'],\n",
              " ['11',\n",
              "  'Harrison',\n",
              "  '3151 W Harrison St',\n",
              "  'Chicago',\n",
              "  'IL',\n",
              "  '60612',\n",
              "  'http://home.chicagopolice.org/community/districts/11th-district-harrison/',\n",
              "  '312-746-8386',\n",
              "  '312-746-4281',\n",
              "  '312-746-5151',\n",
              "  '1155244.069',\n",
              "  '1897148.755',\n",
              "  '41.87358229',\n",
              "  '-87.70548813',\n",
              "  '\"(41.8735822883',\n",
              "  ' -87.705488126)\"'],\n",
              " ['12', 'Near West', '\"1412 S Blue Island Ave'],\n",
              " ['\"',\n",
              "  'Chicago',\n",
              "  'IL',\n",
              "  '60608',\n",
              "  'http://home.chicagopolice.org/community/districts/12th-district-near-west/',\n",
              "  '312-746-8396',\n",
              "  '312-746-4248',\n",
              "  '312-746-9868',\n",
              "  '1168487.845',\n",
              "  '1893384.455',\n",
              "  '41.86297662',\n",
              "  '-87.65697251',\n",
              "  '\"(41.8629766244',\n",
              "  ' -87.6569725149)\"'],\n",
              " ['14',\n",
              "  'Shakespeare',\n",
              "  '2150 N California Ave',\n",
              "  'Chicago',\n",
              "  'IL',\n",
              "  '60647',\n",
              "  'http://home.chicagopolice.org/community/districts/14th-district-shakespeare/',\n",
              "  '312-744-8250',\n",
              "  '312-744-2422',\n",
              "  '312-744-8260',\n",
              "  '1157304.426',\n",
              "  '1914481.521',\n",
              "  '41.92110332',\n",
              "  '-87.69745182',\n",
              "  '\"(41.9211033246',\n",
              "  ' -87.6974518223)\"'],\n",
              " ['15',\n",
              "  'Austin',\n",
              "  '5701 W Madison St',\n",
              "  'Chicago',\n",
              "  'IL',\n",
              "  '60644',\n",
              "  'http://home.chicagopolice.org/community/districts/15th-district-austin/',\n",
              "  '312-743-1440',\n",
              "  '312-743-1366',\n",
              "  '312-743-1485',\n",
              "  '1138148.815',\n",
              "  '1899399.078',\n",
              "  '41.88008346',\n",
              "  '-87.76819989',\n",
              "  '\"(41.8800834614',\n",
              "  ' -87.768199889)\"'],\n",
              " ['16',\n",
              "  'Jefferson Park',\n",
              "  '5151 N Milwaukee Ave',\n",
              "  'Chicago',\n",
              "  'IL',\n",
              "  '60630',\n",
              "  'http://home.chicagopolice.org/community/districts/16th-district-jefferson-park/',\n",
              "  '312-742-4480',\n",
              "  '312-742-4421',\n",
              "  '312-742-4423',\n",
              "  '1138480.758',\n",
              "  '1933660.473',\n",
              "  '41.97409445',\n",
              "  '-87.76614884',\n",
              "  '\"(41.9740944511',\n",
              "  ' -87.7661488432)\"'],\n",
              " ['17',\n",
              "  'Albany Park',\n",
              "  '4650 N Pulaski Rd',\n",
              "  'Chicago',\n",
              "  'IL',\n",
              "  '60630',\n",
              "  'http://home.chicagopolice.org/community/districts/17th-district-albany-park/',\n",
              "  '312-742-4410',\n",
              "  '312-742-5411',\n",
              "  '312-742-5451',\n",
              "  '1148843.91',\n",
              "  '1930801.058',\n",
              "  '41.96605342',\n",
              "  '-87.72811456',\n",
              "  '\"(41.9660534171',\n",
              "  ' -87.728114561)\"']]"
            ]
          },
          "metadata": {
            "tags": []
          },
          "execution_count": 90
        }
      ]
    },
    {
      "cell_type": "code",
      "metadata": {
        "colab": {
          "base_uri": "https://localhost:8080/"
        },
        "id": "MuQtLpRsCv-7",
        "outputId": "358b794a-6e75-4571-bc25-f5aa786ac14c"
      },
      "source": [
        "ps_rest.map(lambda line: line.split(',')).count()"
      ],
      "execution_count": 91,
      "outputs": [
        {
          "output_type": "execute_result",
          "data": {
            "text/plain": [
              "24"
            ]
          },
          "metadata": {
            "tags": []
          },
          "execution_count": 91
        }
      ]
    },
    {
      "cell_type": "code",
      "metadata": {
        "colab": {
          "base_uri": "https://localhost:8080/"
        },
        "id": "TDmg5bHuC0bd",
        "outputId": "60ef24e1-a8e5-458e-f1f0-43323111c94b"
      },
      "source": [
        "(ps_rest.filter(lambda line: line.split(',')[0] == '7').\n",
        " map(lambda line: (line.split(',')[0],\n",
        "                   line.split(',')[1],\n",
        "                   line.split(',')[2],\n",
        "                   line.split(',')[5]\n",
        "                   )).collect())"
      ],
      "execution_count": 97,
      "outputs": [
        {
          "output_type": "execute_result",
          "data": {
            "text/plain": [
              "[('7', 'Englewood', '1438 W 63rd St', '60636')]"
            ]
          },
          "metadata": {
            "tags": []
          },
          "execution_count": 97
        }
      ]
    },
    {
      "cell_type": "code",
      "metadata": {
        "colab": {
          "base_uri": "https://localhost:8080/"
        },
        "id": "jNKAfA4pDKBk",
        "outputId": "150a5655-9469-4e51-ddfa-68bd762b2ff8"
      },
      "source": [
        "ps_rest.filter(lambda line: line.split(',')[0] in ['10','11']).map(lambda line: (line.split(',')[1],\n",
        "                  line.split(',')[2],\n",
        "                  line.split(',')[5])).collect()"
      ],
      "execution_count": 99,
      "outputs": [
        {
          "output_type": "execute_result",
          "data": {
            "text/plain": [
              "[('Ogden', '3315 W Ogden Ave', '60623'),\n",
              " ('Harrison', '3151 W Harrison St', '60612')]"
            ]
          },
          "metadata": {
            "tags": []
          },
          "execution_count": 99
        }
      ]
    },
    {
      "cell_type": "code",
      "metadata": {
        "id": "YR_wLLR_E_gk"
      },
      "source": [
        ""
      ],
      "execution_count": null,
      "outputs": []
    }
  ]
}